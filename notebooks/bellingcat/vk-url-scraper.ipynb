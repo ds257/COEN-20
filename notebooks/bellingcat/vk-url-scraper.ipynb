{
  "cells": [
    {
      "cell_type": "markdown",
      "metadata": {
        "id": "view-in-github",
        "colab_type": "text"
      },
      "source": [
        "<a href=\"https://colab.research.google.com/github/ds257/COEN-20/blob/main/notebooks/bellingcat/vk-url-scraper.ipynb\" target=\"_parent\"><img src=\"https://colab.research.google.com/assets/colab-badge.svg\" alt=\"Open In Colab\"/></a>"
      ]
    },
    {
      "cell_type": "markdown",
      "metadata": {
        "id": "WEy02F8Zj4QW"
      },
      "source": [
        "# VK URL Scraper\n",
        "\n",
        "<a href=\"https://www.bellingcat.com\"><img alt=\"Bellingcat logo: Discover Bellingcat\" src=\"https://img.shields.io/badge/Discover%20Bellingcat-%20?style=for-the-badge&logo=data%3Aimage%2Fpng%3Bbase64%2CiVBORw0KGgoAAAANSUhEUgAAAA4AAAAYCAYAAADKx8xXAAABhGlDQ1BJQ0MgcHJvZmlsZQAAKJF9kT1Iw0AcxV9TS0UqDnZQEcxQneyiIo6likWwUNoKrTqYXPoFTRqSFBdHwbXg4Mdi1cHFWVcHV0EQ%2FABxdnBSdJES%2F5cUWsR4cNyPd%2Fced%2B8AoVllqtkTA1TNMtKJuJjLr4rBVwQwhhBEDEvM1JOZxSw8x9c9fHy9i%2FIs73N%2Fjn6lYDLAJxLHmG5YxBvEs5uWznmfOMzKkkJ8Tjxp0AWJH7kuu%2FzGueSwwDPDRjY9TxwmFktdLHcxKxsq8QxxRFE1yhdyLiuctzir1Tpr35O%2FMFTQVjJcpzmKBJaQRIo6klFHBVVYiNKqkWIiTftxD%2F%2BI40%2BRSyZXBYwcC6hBheT4wf%2Fgd7dmcXrKTQrFgcCLbX%2BMA8FdoNWw7e9j226dAP5n4Err%2BGtNYO6T9EZHixwBA9vAxXVHk%2FeAyx1g6EmXDMmR%2FDSFYhF4P6NvygODt0Dfmttbex%2BnD0CWulq%2BAQ4OgYkSZa97vLu3u7d%2Fz7T7%2BwHEU3LHAa%2FQ6gAAAAZiS0dEAAAAAAAA%2BUO7fwAAAAlwSFlzAAAuIwAALiMBeKU%2FdgAAAAd0SU1FB%2BgFHwwiMH4odB4AAAAZdEVYdENvbW1lbnQAQ3JlYXRlZCB3aXRoIEdJTVBXgQ4XAAAA50lEQVQ4y82SvWpCQRCFz25ERSJiCNqlUiS1b5AuEEiZIq1NOsGXCKms0wXSp9T6dskDiFikyiPc%2FrMZyf3FXSGQ0%2BzuzPl2ZoeVKgQ0gQ2wBVpVHlcDkjM5V%2FJ5nag6sJ%2FZX%2Bh%2FC7gEhqeAFKf7p1M9aB3b5oN1OomB7g1axUBPBr3GQHODHmOgqUF3MZAzKI2d4LWBV4H%2BMXDuJd1a7Cew1k7SwksaHC4LqNaw7aeX9GWHXkC1G1sTAS17Y3Kk2lnp4wNLiz0DrgLq8qt2MfmSSabAO%2FBBXp26dtrADPjOmN%2BAUdG7B3cE61l5hOZiAAAAAElFTkSuQmCC&logoColor=%23fff&color=%23000\"></a><!--\n",
        "--><a href=\"https://discord.gg/bellingcat\"><img alt=\"Discord logo: Join our community\" src=\"https://img.shields.io/badge/Join%20our%20community-%20?style=for-the-badge&logo=discord&logoColor=%23fff&color=%235865F2\"></a><!--\n",
        "--><a href=\"https://github.com/bellingcat/vk-url-scraper\"><img alt=\"Github logo: Explore the code\" src=\"https://img.shields.io/badge/Explore%20the%20code-%20?style=for-the-badge&logo=github&color=%2329903b\"></a>\n",
        "\n",
        "This tool allows you to download all the information and media from one or many VKontakte/ВКонтакте/VK URLs in [JSON](https://developer.mozilla.org/en-US/docs/Learn/JavaScript/Objects/JSON) format, along with all their media.\n",
        "\n",
        "To use it, you first need to create an account on the platform which typically requires a valid phone number and email.\n",
        "\n",
        "This notebook will show you how to authenticate into VK with Bellingcat's [vk-url-scraper](https://github.com/bellingcat/vk-url-scraper/) tool and how to then download posts from the social media site, including media such as photos and videos.\n",
        "\n",
        "- Code and issue management: https://github.com/bellingcat/vk-url-scraper/\n",
        "- Python package: https://pypi.org/project/vk-url-scraper/\n",
        "- Documentation: https://vk-url-scraper.readthedocs.io/en/latest/"
      ]
    },
    {
      "cell_type": "markdown",
      "metadata": {
        "id": "3-nKfeU1j4QX"
      },
      "source": [
        "To run this notebook you need a valid `username/phone` and `password` for vk.com.\n",
        "\n",
        "Enter these below and they will be used throughout the notebook."
      ]
    },
    {
      "cell_type": "code",
      "execution_count": 4,
      "metadata": {
        "id": "ahvjAUBRj4QY"
      },
      "outputs": [],
      "source": [
        "USER = \"+14245223481\"\n",
        "PASS = \"12345678USCAa_!\""
      ]
    },
    {
      "cell_type": "markdown",
      "metadata": {
        "id": "vIoEr3bRj4QY"
      },
      "source": [
        "### Step 1 - install the python package\n",
        "This project depends on another tool whose python packaged has not been updated at time of writing, so we have to hack its installation directly from github, and accordingly perform the authentication into VK with some Python code in Step 2.\n",
        "\n",
        "> NOTE: if you get a `You must restart the runtime in order to use newly installed versions.` pop up on Google Colab, go ahead and click restart. After the restart you can move on to the next cells."
      ]
    },
    {
      "cell_type": "code",
      "execution_count": 18,
      "metadata": {
        "id": "jXQVGlCCj4QY",
        "outputId": "012532b9-ccb3-4f50-92ba-a98a2051fba9",
        "colab": {
          "base_uri": "https://localhost:8080/"
        }
      },
      "outputs": [
        {
          "output_type": "stream",
          "name": "stdout",
          "text": [
            "Requirement already satisfied: vk-url-scraper in /usr/local/lib/python3.10/dist-packages (0.3.30)\n",
            "Requirement already satisfied: aiohttp==3.9.1 in /usr/local/lib/python3.10/dist-packages (from vk-url-scraper) (3.9.1)\n",
            "Requirement already satisfied: aiosignal==1.3.1 in /usr/local/lib/python3.10/dist-packages (from vk-url-scraper) (1.3.1)\n",
            "Requirement already satisfied: alabaster==0.7.16 in /usr/local/lib/python3.10/dist-packages (from vk-url-scraper) (0.7.16)\n",
            "Requirement already satisfied: anyio==4.4.0 in /usr/local/lib/python3.10/dist-packages (from vk-url-scraper) (4.4.0)\n",
            "Requirement already satisfied: async-timeout==4.0.3 in /usr/local/lib/python3.10/dist-packages (from vk-url-scraper) (4.0.3)\n",
            "Requirement already satisfied: attrs==23.2.0 in /usr/local/lib/python3.10/dist-packages (from vk-url-scraper) (23.2.0)\n",
            "Requirement already satisfied: Babel==2.15.0 in /usr/local/lib/python3.10/dist-packages (from vk-url-scraper) (2.15.0)\n",
            "Requirement already satisfied: backports.tarfile==1.2.0 in /usr/local/lib/python3.10/dist-packages (from vk-url-scraper) (1.2.0)\n",
            "Requirement already satisfied: beautifulsoup4==4.13.0b2 in /usr/local/lib/python3.10/dist-packages (from vk-url-scraper) (4.13.0b2)\n",
            "Requirement already satisfied: black==24.4.2 in /usr/local/lib/python3.10/dist-packages (from vk-url-scraper) (24.4.2)\n",
            "Requirement already satisfied: bleach==6.0.0 in /usr/local/lib/python3.10/dist-packages (from vk-url-scraper) (6.0.0)\n",
            "Requirement already satisfied: Brotli==1.1.0 in /usr/local/lib/python3.10/dist-packages (from vk-url-scraper) (1.1.0)\n",
            "Requirement already satisfied: certifi==2024.7.4 in /usr/local/lib/python3.10/dist-packages (from vk-url-scraper) (2024.7.4)\n",
            "Requirement already satisfied: cffi==1.17.0rc1 in /usr/local/lib/python3.10/dist-packages (from vk-url-scraper) (1.17.0rc1)\n",
            "Requirement already satisfied: charset-normalizer==3.3.2 in /usr/local/lib/python3.10/dist-packages (from vk-url-scraper) (3.3.2)\n",
            "Requirement already satisfied: click==8.1.7 in /usr/local/lib/python3.10/dist-packages (from vk-url-scraper) (8.1.7)\n",
            "Requirement already satisfied: colorama==0.4.6 in /usr/local/lib/python3.10/dist-packages (from vk-url-scraper) (0.4.6)\n",
            "Requirement already satisfied: commonmark==0.9.1 in /usr/local/lib/python3.10/dist-packages (from vk-url-scraper) (0.9.1)\n",
            "Requirement already satisfied: coverage==7.6.0 in /usr/local/lib/python3.10/dist-packages (from vk-url-scraper) (7.6.0)\n",
            "Requirement already satisfied: cryptography==42.0.8 in /usr/local/lib/python3.10/dist-packages (from vk-url-scraper) (42.0.8)\n",
            "Requirement already satisfied: docutils==0.18.1 in /usr/local/lib/python3.10/dist-packages (from vk-url-scraper) (0.18.1)\n",
            "Requirement already satisfied: exceptiongroup==1.2.2 in /usr/local/lib/python3.10/dist-packages (from vk-url-scraper) (1.2.2)\n",
            "Requirement already satisfied: flake8==7.1.0 in /usr/local/lib/python3.10/dist-packages (from vk-url-scraper) (7.1.0)\n",
            "Requirement already satisfied: frozenlist==1.4.1 in /usr/local/lib/python3.10/dist-packages (from vk-url-scraper) (1.4.1)\n",
            "Requirement already satisfied: furo==2023.3.27 in /usr/local/lib/python3.10/dist-packages (from vk-url-scraper) (2023.3.27)\n",
            "Requirement already satisfied: h11==0.14.0 in /usr/local/lib/python3.10/dist-packages (from vk-url-scraper) (0.14.0)\n",
            "Requirement already satisfied: idna==3.7 in /usr/local/lib/python3.10/dist-packages (from vk-url-scraper) (3.7)\n",
            "Requirement already satisfied: imagesize==1.4.1 in /usr/local/lib/python3.10/dist-packages (from vk-url-scraper) (1.4.1)\n",
            "Requirement already satisfied: importlib-metadata==8.0.0 in /usr/local/lib/python3.10/dist-packages (from vk-url-scraper) (8.0.0)\n",
            "Requirement already satisfied: iniconfig==2.0.0 in /usr/local/lib/python3.10/dist-packages (from vk-url-scraper) (2.0.0)\n",
            "Requirement already satisfied: isort==6.0.0b2 in /usr/local/lib/python3.10/dist-packages (from vk-url-scraper) (6.0.0b2)\n",
            "Requirement already satisfied: jaraco.classes==3.4.0 in /usr/local/lib/python3.10/dist-packages (from vk-url-scraper) (3.4.0)\n",
            "Requirement already satisfied: jaraco.context==5.3.0 in /usr/local/lib/python3.10/dist-packages (from vk-url-scraper) (5.3.0)\n",
            "Requirement already satisfied: jaraco.functools==4.0.1 in /usr/local/lib/python3.10/dist-packages (from vk-url-scraper) (4.0.1)\n",
            "Requirement already satisfied: jeepney==0.8.0 in /usr/local/lib/python3.10/dist-packages (from vk-url-scraper) (0.8.0)\n",
            "Requirement already satisfied: Jinja2==3.1.4 in /usr/local/lib/python3.10/dist-packages (from vk-url-scraper) (3.1.4)\n",
            "Requirement already satisfied: keyring==25.2.1 in /usr/local/lib/python3.10/dist-packages (from vk-url-scraper) (25.2.1)\n",
            "Requirement already satisfied: livereload==2.6.3 in /usr/local/lib/python3.10/dist-packages (from vk-url-scraper) (2.6.3)\n",
            "Requirement already satisfied: markdown-it-py==2.2.0 in /usr/local/lib/python3.10/dist-packages (from vk-url-scraper) (2.2.0)\n",
            "Requirement already satisfied: MarkupSafe==2.1.5 in /usr/local/lib/python3.10/dist-packages (from vk-url-scraper) (2.1.5)\n",
            "Requirement already satisfied: mccabe==0.7.0 in /usr/local/lib/python3.10/dist-packages (from vk-url-scraper) (0.7.0)\n",
            "Requirement already satisfied: mdit-py-plugins==0.3.5 in /usr/local/lib/python3.10/dist-packages (from vk-url-scraper) (0.3.5)\n",
            "Requirement already satisfied: mdurl==0.1.2 in /usr/local/lib/python3.10/dist-packages (from vk-url-scraper) (0.1.2)\n",
            "Requirement already satisfied: more-itertools==10.3.0 in /usr/local/lib/python3.10/dist-packages (from vk-url-scraper) (10.3.0)\n",
            "Requirement already satisfied: multidict==6.0.4 in /usr/local/lib/python3.10/dist-packages (from vk-url-scraper) (6.0.4)\n",
            "Requirement already satisfied: mutagen==1.47.0 in /usr/local/lib/python3.10/dist-packages (from vk-url-scraper) (1.47.0)\n",
            "Requirement already satisfied: mypy==1.10.1 in /usr/local/lib/python3.10/dist-packages (from vk-url-scraper) (1.10.1)\n",
            "Requirement already satisfied: mypy-extensions==1.0.0 in /usr/local/lib/python3.10/dist-packages (from vk-url-scraper) (1.0.0)\n",
            "Requirement already satisfied: myst-parser==0.18.1 in /usr/local/lib/python3.10/dist-packages (from vk-url-scraper) (0.18.1)\n",
            "Requirement already satisfied: nh3==0.2.18 in /usr/local/lib/python3.10/dist-packages (from vk-url-scraper) (0.2.18)\n",
            "Requirement already satisfied: packaging==24.1 in /usr/local/lib/python3.10/dist-packages (from vk-url-scraper) (24.1)\n",
            "Requirement already satisfied: pathspec==0.12.1 in /usr/local/lib/python3.10/dist-packages (from vk-url-scraper) (0.12.1)\n",
            "Requirement already satisfied: pkginfo==1.10.0 in /usr/local/lib/python3.10/dist-packages (from vk-url-scraper) (1.10.0)\n",
            "Requirement already satisfied: platformdirs==4.2.2 in /usr/local/lib/python3.10/dist-packages (from vk-url-scraper) (4.2.2)\n",
            "Requirement already satisfied: pluggy==1.5.0 in /usr/local/lib/python3.10/dist-packages (from vk-url-scraper) (1.5.0)\n",
            "Requirement already satisfied: py==1.11.0 in /usr/local/lib/python3.10/dist-packages (from vk-url-scraper) (1.11.0)\n",
            "Requirement already satisfied: pycodestyle==2.12.0 in /usr/local/lib/python3.10/dist-packages (from vk-url-scraper) (2.12.0)\n",
            "Requirement already satisfied: pycparser==2.22 in /usr/local/lib/python3.10/dist-packages (from vk-url-scraper) (2.22)\n",
            "Requirement already satisfied: pycryptodomex==3.20.0 in /usr/local/lib/python3.10/dist-packages (from vk-url-scraper) (3.20.0)\n",
            "Requirement already satisfied: pyflakes==3.2.0 in /usr/local/lib/python3.10/dist-packages (from vk-url-scraper) (3.2.0)\n",
            "Requirement already satisfied: Pygments==2.18.0 in /usr/local/lib/python3.10/dist-packages (from vk-url-scraper) (2.18.0)\n",
            "Requirement already satisfied: pyparsing==3.0.9 in /usr/local/lib/python3.10/dist-packages (from vk-url-scraper) (3.0.9)\n",
            "Requirement already satisfied: pytest==8.2.2 in /usr/local/lib/python3.10/dist-packages (from vk-url-scraper) (8.2.2)\n",
            "Requirement already satisfied: pytest-cov==5.0.0 in /usr/local/lib/python3.10/dist-packages (from vk-url-scraper) (5.0.0)\n",
            "Requirement already satisfied: pytest-sphinx==0.6.3 in /usr/local/lib/python3.10/dist-packages (from vk-url-scraper) (0.6.3)\n",
            "Requirement already satisfied: python-dotenv==1.0.1 in /usr/local/lib/python3.10/dist-packages (from vk-url-scraper) (1.0.1)\n",
            "Requirement already satisfied: pytz==2022.1 in /usr/local/lib/python3.10/dist-packages (from vk-url-scraper) (2022.1)\n",
            "Requirement already satisfied: PyYAML==6.0.2rc1 in /usr/local/lib/python3.10/dist-packages (from vk-url-scraper) (6.0.2rc1)\n",
            "Requirement already satisfied: readme-renderer==43.0 in /usr/local/lib/python3.10/dist-packages (from vk-url-scraper) (43.0)\n",
            "Requirement already satisfied: requests==2.32.3 in /usr/local/lib/python3.10/dist-packages (from vk-url-scraper) (2.32.3)\n",
            "Requirement already satisfied: requests-toolbelt==1.0.0 in /usr/local/lib/python3.10/dist-packages (from vk-url-scraper) (1.0.0)\n",
            "Requirement already satisfied: rfc3986==2.0.0 in /usr/local/lib/python3.10/dist-packages (from vk-url-scraper) (2.0.0)\n",
            "Requirement already satisfied: rich==13.7.1 in /usr/local/lib/python3.10/dist-packages (from vk-url-scraper) (13.7.1)\n",
            "Requirement already satisfied: SecretStorage==3.3.3 in /usr/local/lib/python3.10/dist-packages (from vk-url-scraper) (3.3.3)\n",
            "Requirement already satisfied: six==1.16.0 in /usr/local/lib/python3.10/dist-packages (from vk-url-scraper) (1.16.0)\n",
            "Requirement already satisfied: sniffio==1.3.1 in /usr/local/lib/python3.10/dist-packages (from vk-url-scraper) (1.3.1)\n",
            "Requirement already satisfied: snowballstemmer==2.2.0 in /usr/local/lib/python3.10/dist-packages (from vk-url-scraper) (2.2.0)\n",
            "Requirement already satisfied: soupsieve==2.5 in /usr/local/lib/python3.10/dist-packages (from vk-url-scraper) (2.5)\n",
            "Requirement already satisfied: Sphinx==5.0.2 in /usr/local/lib/python3.10/dist-packages (from vk-url-scraper) (5.0.2)\n",
            "Requirement already satisfied: sphinx-autobuild==2024.4.16 in /usr/local/lib/python3.10/dist-packages (from vk-url-scraper) (2024.4.16)\n",
            "Requirement already satisfied: sphinx-autodoc-typehints==1.19.1 in /usr/local/lib/python3.10/dist-packages (from vk-url-scraper) (1.19.1)\n",
            "Requirement already satisfied: sphinx-basic-ng==1.0.0b2 in /usr/local/lib/python3.10/dist-packages (from vk-url-scraper) (1.0.0b2)\n",
            "Requirement already satisfied: sphinx-copybutton==0.5.2 in /usr/local/lib/python3.10/dist-packages (from vk-url-scraper) (0.5.2)\n",
            "Requirement already satisfied: sphinxcontrib-applehelp==1.0.8 in /usr/local/lib/python3.10/dist-packages (from vk-url-scraper) (1.0.8)\n",
            "Requirement already satisfied: sphinxcontrib-devhelp==1.0.6 in /usr/local/lib/python3.10/dist-packages (from vk-url-scraper) (1.0.6)\n",
            "Requirement already satisfied: sphinxcontrib-htmlhelp==2.0.5 in /usr/local/lib/python3.10/dist-packages (from vk-url-scraper) (2.0.5)\n",
            "Requirement already satisfied: sphinxcontrib-jsmath==1.0.1 in /usr/local/lib/python3.10/dist-packages (from vk-url-scraper) (1.0.1)\n",
            "Requirement already satisfied: sphinxcontrib-qthelp==1.0.7 in /usr/local/lib/python3.10/dist-packages (from vk-url-scraper) (1.0.7)\n",
            "Requirement already satisfied: sphinxcontrib-serializinghtml==1.1.10 in /usr/local/lib/python3.10/dist-packages (from vk-url-scraper) (1.1.10)\n",
            "Requirement already satisfied: starlette==0.37.2 in /usr/local/lib/python3.10/dist-packages (from vk-url-scraper) (0.37.2)\n",
            "Requirement already satisfied: tomli==2.0.1 in /usr/local/lib/python3.10/dist-packages (from vk-url-scraper) (2.0.1)\n",
            "Requirement already satisfied: tornado==6.4 in /usr/local/lib/python3.10/dist-packages (from vk-url-scraper) (6.4)\n",
            "Requirement already satisfied: twine==5.1.1 in /usr/local/lib/python3.10/dist-packages (from vk-url-scraper) (5.1.1)\n",
            "Requirement already satisfied: typing-extensions==4.12.2 in /usr/local/lib/python3.10/dist-packages (from vk-url-scraper) (4.12.2)\n",
            "Requirement already satisfied: urllib3==2.2.2 in /usr/local/lib/python3.10/dist-packages (from vk-url-scraper) (2.2.2)\n",
            "Requirement already satisfied: uvicorn==0.30.1 in /usr/local/lib/python3.10/dist-packages (from vk-url-scraper) (0.30.1)\n",
            "Requirement already satisfied: vk-api==11.9.9 in /usr/local/lib/python3.10/dist-packages (from vk-url-scraper) (11.9.9)\n",
            "Requirement already satisfied: watchfiles==0.22.0 in /usr/local/lib/python3.10/dist-packages (from vk-url-scraper) (0.22.0)\n",
            "Requirement already satisfied: webencodings==0.5.1 in /usr/local/lib/python3.10/dist-packages (from vk-url-scraper) (0.5.1)\n",
            "Requirement already satisfied: websockets==12.0 in /usr/local/lib/python3.10/dist-packages (from vk-url-scraper) (12.0)\n",
            "Requirement already satisfied: yarl==1.9.4 in /usr/local/lib/python3.10/dist-packages (from vk-url-scraper) (1.9.4)\n",
            "Requirement already satisfied: yt-dlp==2024.7.15.232803.dev0 in /usr/local/lib/python3.10/dist-packages (from vk-url-scraper) (2024.7.15.232803.dev0)\n",
            "Requirement already satisfied: zipp==3.19.2 in /usr/local/lib/python3.10/dist-packages (from vk-url-scraper) (3.19.2)\n"
          ]
        }
      ],
      "source": [
        "# first install the package (see Note above)\n",
        "!pip install vk-url-scraper"
      ]
    },
    {
      "cell_type": "code",
      "execution_count": 19,
      "metadata": {
        "id": "vPajCboVj4QY",
        "outputId": "505d8751-5816-4787-b42b-b7d133a696b6",
        "colab": {
          "base_uri": "https://localhost:8080/",
          "height": 546
        }
      },
      "outputs": [
        {
          "output_type": "stream",
          "name": "stdout",
          "text": [
            "Found existing installation: vk_api 11.9.9\n",
            "Uninstalling vk_api-11.9.9:\n",
            "  Successfully uninstalled vk_api-11.9.9\n",
            "Collecting git+https://github.com/python273/vk_api.git@b99dac0ec2f832a6c4b20bde49869e7229ce4742\n",
            "  Cloning https://github.com/python273/vk_api.git (to revision b99dac0ec2f832a6c4b20bde49869e7229ce4742) to /tmp/pip-req-build-oz7l8qly\n",
            "  Running command git clone --filter=blob:none --quiet https://github.com/python273/vk_api.git /tmp/pip-req-build-oz7l8qly\n",
            "  Running command git rev-parse -q --verify 'sha^b99dac0ec2f832a6c4b20bde49869e7229ce4742'\n",
            "  Running command git fetch -q https://github.com/python273/vk_api.git b99dac0ec2f832a6c4b20bde49869e7229ce4742\n",
            "  Running command git checkout -q b99dac0ec2f832a6c4b20bde49869e7229ce4742\n",
            "  Resolved https://github.com/python273/vk_api.git to commit b99dac0ec2f832a6c4b20bde49869e7229ce4742\n",
            "  Preparing metadata (setup.py) ... \u001b[?25l\u001b[?25hdone\n",
            "Requirement already satisfied: requests<3.0.0,>=2.20.0 in /usr/local/lib/python3.10/dist-packages (from vk_api==11.9.9) (2.32.3)\n",
            "Requirement already satisfied: charset-normalizer<4,>=2 in /usr/local/lib/python3.10/dist-packages (from requests<3.0.0,>=2.20.0->vk_api==11.9.9) (3.3.2)\n",
            "Requirement already satisfied: idna<4,>=2.5 in /usr/local/lib/python3.10/dist-packages (from requests<3.0.0,>=2.20.0->vk_api==11.9.9) (3.7)\n",
            "Requirement already satisfied: urllib3<3,>=1.21.1 in /usr/local/lib/python3.10/dist-packages (from requests<3.0.0,>=2.20.0->vk_api==11.9.9) (2.2.2)\n",
            "Requirement already satisfied: certifi>=2017.4.17 in /usr/local/lib/python3.10/dist-packages (from requests<3.0.0,>=2.20.0->vk_api==11.9.9) (2024.7.4)\n",
            "Building wheels for collected packages: vk_api\n",
            "  Building wheel for vk_api (setup.py) ... \u001b[?25l\u001b[?25hdone\n",
            "  Created wheel for vk_api: filename=vk_api-11.9.9-py3-none-any.whl size=49695 sha256=f02dfd375ed8581387862d3dc80c9261c9cceade7143ad81af271f120712275e\n",
            "  Stored in directory: /root/.cache/pip/wheels/11/9f/33/62bb8e0fe036a1b92f0b4482b6be482ce00a6dc2a41272e2e0\n",
            "Successfully built vk_api\n",
            "Installing collected packages: vk_api\n",
            "Successfully installed vk_api-11.9.9\n"
          ]
        },
        {
          "output_type": "display_data",
          "data": {
            "application/vnd.colab-display-data+json": {
              "pip_warning": {
                "packages": [
                  "jconfig",
                  "vk_api"
                ]
              },
              "id": "11fe6241beac4ce28e6e2bb4d6774094"
            }
          },
          "metadata": {}
        }
      ],
      "source": [
        "# then uninstall the broken dependency and install a fixed one\n",
        "!pip uninstall vk-api -y\n",
        "!pip install git+https://github.com/python273/vk_api.git@b99dac0ec2f832a6c4b20bde49869e7229ce4742"
      ]
    },
    {
      "cell_type": "code",
      "execution_count": 1,
      "metadata": {
        "id": "t_AJD5erj4QY",
        "outputId": "af02dc00-4949-4e16-9f95-ebcdaa3d4fb5",
        "colab": {
          "base_uri": "https://localhost:8080/"
        }
      },
      "outputs": [
        {
          "output_type": "stream",
          "name": "stdout",
          "text": [
            "usage: vk_url_scraper [-h] -u USERNAME -p PASSWORD [-t TOKEN] [-d | --download | --no-download]\n",
            "                      --urls ...\n",
            "\n",
            "Authenticate and scrape information from vk.com based on a URL or set of URLs.\n",
            "\n",
            "options:\n",
            "  -h, --help            show this help message and exit\n",
            "  -u USERNAME, --username USERNAME\n",
            "                        username for a valid vk.com account (pass empty if using --token)\n",
            "  -p PASSWORD, --password PASSWORD\n",
            "                        password for the valid vk.com account (pass empty if using --token)\n",
            "  -t TOKEN, --token TOKEN\n",
            "                        optional token, when passed username/password authentication will not be\n",
            "                        done - good to avoid captcha issues\n",
            "  -d, --download, --no-download\n",
            "                        if set then all photos and videos will be downloaded to folder output/\n",
            "  --urls ...            must be the last argument: any text with one or more urls to scrape\n"
          ]
        }
      ],
      "source": [
        "# to make sure the installation is successful we can call the help method of the tool\n",
        "!vk_url_scraper --help"
      ]
    },
    {
      "cell_type": "markdown",
      "metadata": {
        "id": "Cn5KJrLXj4QY"
      },
      "source": [
        "### Step 2 - login\n",
        "The next cell contains helper python code needed the first time you login."
      ]
    },
    {
      "cell_type": "code",
      "execution_count": 2,
      "metadata": {
        "id": "Y3-3kVrhj4QZ"
      },
      "outputs": [],
      "source": [
        "import vk_api\n",
        "\n",
        "def captcha_handler(captcha):\n",
        "    key = input(\n",
        "        f\"CAPTCHA DETECTED, please solve it and input the solution. url= {captcha.get_url()} :\"\n",
        "    ).strip()\n",
        "    return captcha.try_again(key.strip())"
      ]
    },
    {
      "cell_type": "markdown",
      "metadata": {
        "id": "0pZsG0i6j4QZ"
      },
      "source": [
        "The next code cell tries to login with the credentials you provided above.\n",
        "\n",
        "You may get a `CAPTCHA DETECTED` message and a URL. In that case, go to the URL, solve the captcha and input it by clicking on the text box on the right of the message (different notebook environments have different appearances and in some the textbox is only visible when you click it)."
      ]
    },
    {
      "cell_type": "code",
      "execution_count": 5,
      "metadata": {
        "id": "7yQO-xPij4QZ"
      },
      "outputs": [],
      "source": [
        "(vk_api.VkApi(USER,PASS,captcha_handler=captcha_handler)).auth(token_only=True)"
      ]
    },
    {
      "cell_type": "markdown",
      "metadata": {
        "id": "qjaiQyixj4QZ"
      },
      "source": [
        "A `vk_config.v2.json` file should have been created, it contains your access tokens so don't share it.\n",
        "\n",
        "When that file is present you don't need to re-run the python code in this section."
      ]
    },
    {
      "cell_type": "markdown",
      "metadata": {
        "id": "fTbOwN-Aj4QZ"
      },
      "source": [
        "### Step 3 - scrape a post\n",
        "We will scrape a post with both text and images using the VK API: https://vk.com/wall-152947668_126406\n",
        "\n",
        "This will only work if the `vk_config.v2.json` file is present (see Step 2).\n",
        "\n",
        "The results will be written to `scraped.json` file, if you want to see it in the console remove the final part of the command `> scraped.json`."
      ]
    },
    {
      "cell_type": "code",
      "execution_count": 6,
      "metadata": {
        "id": "o0wsRwSkj4QZ"
      },
      "outputs": [],
      "source": [
        "!vk_url_scraper --username \"{USER}\" --password \"{PASS}\" --urls https://vk.com/wall-152947668_126406 > scraped.json"
      ]
    },
    {
      "cell_type": "code",
      "execution_count": 7,
      "metadata": {
        "id": "MSDIi7L0j4QZ",
        "outputId": "0ba6c148-bd2a-47be-a657-f34bfe98fb54",
        "colab": {
          "base_uri": "https://localhost:8080/"
        }
      },
      "outputs": [
        {
          "output_type": "stream",
          "name": "stdout",
          "text": [
            "[\n",
            "    {\n",
            "        \"id\": \"wall-152947668_126406\",\n",
            "        \"text\": \"❄💙❄💙❄💙❄💙❄\",\n",
            "        \"datetime\": \"2024-01-23 08:46:19\",\n",
            "        \"attachments\": {\n",
            "            \"photo\": [\n",
            "                \"https://sun9-3.userapi.com/s/v1/ig2/VeDRv3VyF5tgkMXpvEMr4y5NYDpPudO94pC_3eb1AqVgTXANV-tusZG-wh7VC18I11-Cwrhgq57csI3XPAc5Zjkh.jpg?quality=95&as=32x32,48x48,72x72,108x108,160x160,240x240,360x360,480x480,540x540,640x640,720x720,736x736&from=bu&cs=510x510\",\n",
            "                \"https://sun9-50.userapi.com/s/v1/ig2/IUwQvS83aACayqvklOVyA1l1FZyONpkZdJlz4HX9jFqifZ3zjOJj1oiF0sYoHASlyiIN2hXBhcwBb8BsAl2kqoPf.jpg?quality=95&as=32x40,48x60,72x90,108x135,160x200,240x300,360x450,480x600,540x675&from=bu&cs=510x637\",\n",
            "                \"https://sun9-20.userapi.com/s/v1/ig2/hbHxa3eeV96oKgm4sm1yRXiCWWlZuBaxT3o6VwwYbdH4wp50Br-TWjz0aelfkasEqtlcSEqGB8dthOINrejm7GGU.jpg?quality=95&as=32x38,48x58,72x86,108x130,160x192,240x288,360x432,480x576,540x648,640x768,720x864,736x883&from=bu&cs=510x612\",\n"
          ]
        }
      ],
      "source": [
        "# let's read the first lines of scraped.json to make sure it's working\n",
        "!head scraped.json"
      ]
    },
    {
      "cell_type": "markdown",
      "metadata": {
        "id": "AsSzFnVmj4QZ"
      },
      "source": [
        "Besides the post data, we can automatically `--download` the media.\n",
        "\n",
        "Let's pass two URLs, one with images and one with videos and download all of them.\n",
        "\n",
        "You can add as many as you want at once, so long as you separate them by a comma `,`.\n",
        "\n",
        "The JSON will be written to the console, you can direct it to a JSON file for latter processing by appending `> my_output_filename.json`."
      ]
    },
    {
      "cell_type": "code",
      "execution_count": 8,
      "metadata": {
        "id": "CkqDSRVRj4QZ",
        "outputId": "c3b5035d-6d7a-4608-cb48-de4fb3b11337",
        "colab": {
          "base_uri": "https://localhost:8080/"
        }
      },
      "outputs": [
        {
          "output_type": "stream",
          "name": "stdout",
          "text": [
            "[\n",
            "    {\n",
            "        \"id\": \"wall-152947668_126406\",\n",
            "        \"text\": \"❄💙❄💙❄💙❄💙❄\",\n",
            "        \"datetime\": \"2024-01-23 08:46:19\",\n",
            "        \"attachments\": {\n",
            "            \"photo\": [\n",
            "                \"https://sun9-3.userapi.com/s/v1/ig2/VeDRv3VyF5tgkMXpvEMr4y5NYDpPudO94pC_3eb1AqVgTXANV-tusZG-wh7VC18I11-Cwrhgq57csI3XPAc5Zjkh.jpg?quality=95&as=32x32,48x48,72x72,108x108,160x160,240x240,360x360,480x480,540x540,640x640,720x720,736x736&from=bu&cs=510x510\",\n",
            "                \"https://sun9-50.userapi.com/s/v1/ig2/IUwQvS83aACayqvklOVyA1l1FZyONpkZdJlz4HX9jFqifZ3zjOJj1oiF0sYoHASlyiIN2hXBhcwBb8BsAl2kqoPf.jpg?quality=95&as=32x40,48x60,72x90,108x135,160x200,240x300,360x450,480x600,540x675&from=bu&cs=510x637\",\n",
            "                \"https://sun9-20.userapi.com/s/v1/ig2/hbHxa3eeV96oKgm4sm1yRXiCWWlZuBaxT3o6VwwYbdH4wp50Br-TWjz0aelfkasEqtlcSEqGB8dthOINrejm7GGU.jpg?quality=95&as=32x38,48x58,72x86,108x130,160x192,240x288,360x432,480x576,540x648,640x768,720x864,736x883&from=bu&cs=510x612\",\n",
            "                \"https://sun9-51.userapi.com/s/v1/ig2/GWzTxjhK1exlYFpvfzvzhT1WbDC1h3c4n71neQgqdRAaAoaq35M4H9tO-bg0XuK_vLgScSFTV1KUCyQrKIlW7vRc.jpg?quality=95&as=32x40,48x60,72x90,108x135,160x200,240x300,360x450,480x600,540x675,640x800,720x900&from=bu&cs=510x637\"\n",
            "            ]\n",
            "        },\n",
            "        \"payload\": {\n",
            "            \"inner_type\": \"wall_wallpost\",\n",
            "            \"comments\": {\n",
            "                \"can_post\": 1,\n",
            "                \"count\": 6\n",
            "            },\n",
            "            \"marked_as_ads\": 0,\n",
            "            \"hash\": \"eLexr0iBDOWSUf3575Hx1VAxzDZ4\",\n",
            "            \"type\": \"post\",\n",
            "            \"donut_miniapp_url\": \"https://vk.com/app51528700#/?owner_id=-152947668&type=donut_badges&params=%257B%2522item_id%2522%253A%2522126406%2522%257D&comment=1\",\n",
            "            \"attachments\": [\n",
            "                {\n",
            "                    \"type\": \"photo\",\n",
            "                    \"photo\": {\n",
            "                        \"album_id\": -7,\n",
            "                        \"date\": 1705999578,\n",
            "                        \"id\": 457306484,\n",
            "                        \"owner_id\": -152947668,\n",
            "                        \"access_key\": \"1e09c554789e82a6c3\",\n",
            "                        \"sizes\": [\n",
            "                            {\n",
            "                                \"height\": 75,\n",
            "                                \"type\": \"s\",\n",
            "                                \"width\": 75,\n",
            "                                \"url\": \"https://sun9-3.userapi.com/s/v1/ig2/VeDRv3VyF5tgkMXpvEMr4y5NYDpPudO94pC_3eb1AqVgTXANV-tusZG-wh7VC18I11-Cwrhgq57csI3XPAc5Zjkh.jpg?quality=95&as=32x32,48x48,72x72,108x108,160x160,240x240,360x360,480x480,540x540,640x640,720x720,736x736&from=bu&cs=75x75\"\n",
            "                            },\n",
            "                            {\n",
            "                                \"height\": 130,\n",
            "                                \"type\": \"m\",\n",
            "                                \"width\": 130,\n",
            "                                \"url\": \"https://sun9-3.userapi.com/s/v1/ig2/VeDRv3VyF5tgkMXpvEMr4y5NYDpPudO94pC_3eb1AqVgTXANV-tusZG-wh7VC18I11-Cwrhgq57csI3XPAc5Zjkh.jpg?quality=95&as=32x32,48x48,72x72,108x108,160x160,240x240,360x360,480x480,540x540,640x640,720x720,736x736&from=bu&cs=130x130\"\n",
            "                            },\n",
            "                            {\n",
            "                                \"height\": 604,\n",
            "                                \"type\": \"x\",\n",
            "                                \"width\": 604,\n",
            "                                \"url\": \"https://sun9-3.userapi.com/s/v1/ig2/VeDRv3VyF5tgkMXpvEMr4y5NYDpPudO94pC_3eb1AqVgTXANV-tusZG-wh7VC18I11-Cwrhgq57csI3XPAc5Zjkh.jpg?quality=95&as=32x32,48x48,72x72,108x108,160x160,240x240,360x360,480x480,540x540,640x640,720x720,736x736&from=bu&cs=604x604\"\n",
            "                            },\n",
            "                            {\n",
            "                                \"height\": 736,\n",
            "                                \"type\": \"y\",\n",
            "                                \"width\": 736,\n",
            "                                \"url\": \"https://sun9-3.userapi.com/s/v1/ig2/VeDRv3VyF5tgkMXpvEMr4y5NYDpPudO94pC_3eb1AqVgTXANV-tusZG-wh7VC18I11-Cwrhgq57csI3XPAc5Zjkh.jpg?quality=95&as=32x32,48x48,72x72,108x108,160x160,240x240,360x360,480x480,540x540,640x640,720x720,736x736&from=bu&cs=736x736\"\n",
            "                            },\n",
            "                            {\n",
            "                                \"height\": 130,\n",
            "                                \"type\": \"o\",\n",
            "                                \"width\": 130,\n",
            "                                \"url\": \"https://sun9-3.userapi.com/s/v1/ig2/VeDRv3VyF5tgkMXpvEMr4y5NYDpPudO94pC_3eb1AqVgTXANV-tusZG-wh7VC18I11-Cwrhgq57csI3XPAc5Zjkh.jpg?quality=95&as=32x32,48x48,72x72,108x108,160x160,240x240,360x360,480x480,540x540,640x640,720x720,736x736&from=bu&cs=130x130\"\n",
            "                            },\n",
            "                            {\n",
            "                                \"height\": 200,\n",
            "                                \"type\": \"p\",\n",
            "                                \"width\": 200,\n",
            "                                \"url\": \"https://sun9-3.userapi.com/s/v1/ig2/VeDRv3VyF5tgkMXpvEMr4y5NYDpPudO94pC_3eb1AqVgTXANV-tusZG-wh7VC18I11-Cwrhgq57csI3XPAc5Zjkh.jpg?quality=95&as=32x32,48x48,72x72,108x108,160x160,240x240,360x360,480x480,540x540,640x640,720x720,736x736&from=bu&cs=200x200\"\n",
            "                            },\n",
            "                            {\n",
            "                                \"height\": 320,\n",
            "                                \"type\": \"q\",\n",
            "                                \"width\": 320,\n",
            "                                \"url\": \"https://sun9-3.userapi.com/s/v1/ig2/VeDRv3VyF5tgkMXpvEMr4y5NYDpPudO94pC_3eb1AqVgTXANV-tusZG-wh7VC18I11-Cwrhgq57csI3XPAc5Zjkh.jpg?quality=95&as=32x32,48x48,72x72,108x108,160x160,240x240,360x360,480x480,540x540,640x640,720x720,736x736&from=bu&cs=320x320\"\n",
            "                            },\n",
            "                            {\n",
            "                                \"height\": 510,\n",
            "                                \"type\": \"r\",\n",
            "                                \"width\": 510,\n",
            "                                \"url\": \"https://sun9-3.userapi.com/s/v1/ig2/VeDRv3VyF5tgkMXpvEMr4y5NYDpPudO94pC_3eb1AqVgTXANV-tusZG-wh7VC18I11-Cwrhgq57csI3XPAc5Zjkh.jpg?quality=95&as=32x32,48x48,72x72,108x108,160x160,240x240,360x360,480x480,540x540,640x640,720x720,736x736&from=bu&cs=510x510\"\n",
            "                            }\n",
            "                        ],\n",
            "                        \"text\": \"\",\n",
            "                        \"user_id\": 100,\n",
            "                        \"web_view_token\": \"e76e587d31626f3108\",\n",
            "                        \"orig_photo\": {\n",
            "                            \"height\": 736,\n",
            "                            \"type\": \"base\",\n",
            "                            \"url\": \"https://sun9-3.userapi.com/s/v1/ig2/VeDRv3VyF5tgkMXpvEMr4y5NYDpPudO94pC_3eb1AqVgTXANV-tusZG-wh7VC18I11-Cwrhgq57csI3XPAc5Zjkh.jpg?quality=95&as=32x32,48x48,72x72,108x108,160x160,240x240,360x360,480x480,540x540,640x640,720x720,736x736&from=bu\",\n",
            "                            \"width\": 736\n",
            "                        }\n",
            "                    }\n",
            "                },\n",
            "                {\n",
            "                    \"type\": \"photo\",\n",
            "                    \"photo\": {\n",
            "                        \"album_id\": -7,\n",
            "                        \"date\": 1705999578,\n",
            "                        \"id\": 457306485,\n",
            "                        \"owner_id\": -152947668,\n",
            "                        \"access_key\": \"f4685d07b8dddc9110\",\n",
            "                        \"sizes\": [\n",
            "                            {\n",
            "                                \"height\": 75,\n",
            "                                \"type\": \"s\",\n",
            "                                \"width\": 60,\n",
            "                                \"url\": \"https://sun9-50.userapi.com/s/v1/ig2/IUwQvS83aACayqvklOVyA1l1FZyONpkZdJlz4HX9jFqifZ3zjOJj1oiF0sYoHASlyiIN2hXBhcwBb8BsAl2kqoPf.jpg?quality=95&as=32x40,48x60,72x90,108x135,160x200,240x300,360x450,480x600,540x675&from=bu&cs=60x75\"\n",
            "                            },\n",
            "                            {\n",
            "                                \"height\": 130,\n",
            "                                \"type\": \"m\",\n",
            "                                \"width\": 104,\n",
            "                                \"url\": \"https://sun9-50.userapi.com/s/v1/ig2/IUwQvS83aACayqvklOVyA1l1FZyONpkZdJlz4HX9jFqifZ3zjOJj1oiF0sYoHASlyiIN2hXBhcwBb8BsAl2kqoPf.jpg?quality=95&as=32x40,48x60,72x90,108x135,160x200,240x300,360x450,480x600,540x675&from=bu&cs=104x130\"\n",
            "                            },\n",
            "                            {\n",
            "                                \"height\": 604,\n",
            "                                \"type\": \"x\",\n",
            "                                \"width\": 483,\n",
            "                                \"url\": \"https://sun9-50.userapi.com/s/v1/ig2/IUwQvS83aACayqvklOVyA1l1FZyONpkZdJlz4HX9jFqifZ3zjOJj1oiF0sYoHASlyiIN2hXBhcwBb8BsAl2kqoPf.jpg?quality=95&as=32x40,48x60,72x90,108x135,160x200,240x300,360x450,480x600,540x675&from=bu&cs=483x604\"\n",
            "                            },\n",
            "                            {\n",
            "                                \"height\": 675,\n",
            "                                \"type\": \"y\",\n",
            "                                \"width\": 540,\n",
            "                                \"url\": \"https://sun9-50.userapi.com/s/v1/ig2/IUwQvS83aACayqvklOVyA1l1FZyONpkZdJlz4HX9jFqifZ3zjOJj1oiF0sYoHASlyiIN2hXBhcwBb8BsAl2kqoPf.jpg?quality=95&as=32x40,48x60,72x90,108x135,160x200,240x300,360x450,480x600,540x675&from=bu&cs=540x675\"\n",
            "                            },\n",
            "                            {\n",
            "                                \"height\": 162,\n",
            "                                \"type\": \"o\",\n",
            "                                \"width\": 130,\n",
            "                                \"url\": \"https://sun9-50.userapi.com/s/v1/ig2/IUwQvS83aACayqvklOVyA1l1FZyONpkZdJlz4HX9jFqifZ3zjOJj1oiF0sYoHASlyiIN2hXBhcwBb8BsAl2kqoPf.jpg?quality=95&as=32x40,48x60,72x90,108x135,160x200,240x300,360x450,480x600,540x675&from=bu&cs=130x162\"\n",
            "                            },\n",
            "                            {\n",
            "                                \"height\": 250,\n",
            "                                \"type\": \"p\",\n",
            "                                \"width\": 200,\n",
            "                                \"url\": \"https://sun9-50.userapi.com/s/v1/ig2/IUwQvS83aACayqvklOVyA1l1FZyONpkZdJlz4HX9jFqifZ3zjOJj1oiF0sYoHASlyiIN2hXBhcwBb8BsAl2kqoPf.jpg?quality=95&as=32x40,48x60,72x90,108x135,160x200,240x300,360x450,480x600,540x675&from=bu&cs=200x250\"\n",
            "                            },\n",
            "                            {\n",
            "                                \"height\": 400,\n",
            "                                \"type\": \"q\",\n",
            "                                \"width\": 320,\n",
            "                                \"url\": \"https://sun9-50.userapi.com/s/v1/ig2/IUwQvS83aACayqvklOVyA1l1FZyONpkZdJlz4HX9jFqifZ3zjOJj1oiF0sYoHASlyiIN2hXBhcwBb8BsAl2kqoPf.jpg?quality=95&as=32x40,48x60,72x90,108x135,160x200,240x300,360x450,480x600,540x675&from=bu&cs=320x400\"\n",
            "                            },\n",
            "                            {\n",
            "                                \"height\": 637,\n",
            "                                \"type\": \"r\",\n",
            "                                \"width\": 510,\n",
            "                                \"url\": \"https://sun9-50.userapi.com/s/v1/ig2/IUwQvS83aACayqvklOVyA1l1FZyONpkZdJlz4HX9jFqifZ3zjOJj1oiF0sYoHASlyiIN2hXBhcwBb8BsAl2kqoPf.jpg?quality=95&as=32x40,48x60,72x90,108x135,160x200,240x300,360x450,480x600,540x675&from=bu&cs=510x637\"\n",
            "                            }\n",
            "                        ],\n",
            "                        \"text\": \"\",\n",
            "                        \"user_id\": 100,\n",
            "                        \"web_view_token\": \"3174c4567447cab985\",\n",
            "                        \"orig_photo\": {\n",
            "                            \"height\": 675,\n",
            "                            \"type\": \"base\",\n",
            "                            \"url\": \"https://sun9-50.userapi.com/s/v1/ig2/IUwQvS83aACayqvklOVyA1l1FZyONpkZdJlz4HX9jFqifZ3zjOJj1oiF0sYoHASlyiIN2hXBhcwBb8BsAl2kqoPf.jpg?quality=95&as=32x40,48x60,72x90,108x135,160x200,240x300,360x450,480x600,540x675&from=bu\",\n",
            "                            \"width\": 540\n",
            "                        }\n",
            "                    }\n",
            "                },\n",
            "                {\n",
            "                    \"type\": \"photo\",\n",
            "                    \"photo\": {\n",
            "                        \"album_id\": -7,\n",
            "                        \"date\": 1705999578,\n",
            "                        \"id\": 457306486,\n",
            "                        \"owner_id\": -152947668,\n",
            "                        \"access_key\": \"061eae092ef0e01e7b\",\n",
            "                        \"sizes\": [\n",
            "                            {\n",
            "                                \"height\": 75,\n",
            "                                \"type\": \"s\",\n",
            "                                \"width\": 63,\n",
            "                                \"url\": \"https://sun9-20.userapi.com/s/v1/ig2/hbHxa3eeV96oKgm4sm1yRXiCWWlZuBaxT3o6VwwYbdH4wp50Br-TWjz0aelfkasEqtlcSEqGB8dthOINrejm7GGU.jpg?quality=95&as=32x38,48x58,72x86,108x130,160x192,240x288,360x432,480x576,540x648,640x768,720x864,736x883&from=bu&cs=63x75\"\n",
            "                            },\n",
            "                            {\n",
            "                                \"height\": 130,\n",
            "                                \"type\": \"m\",\n",
            "                                \"width\": 108,\n",
            "                                \"url\": \"https://sun9-20.userapi.com/s/v1/ig2/hbHxa3eeV96oKgm4sm1yRXiCWWlZuBaxT3o6VwwYbdH4wp50Br-TWjz0aelfkasEqtlcSEqGB8dthOINrejm7GGU.jpg?quality=95&as=32x38,48x58,72x86,108x130,160x192,240x288,360x432,480x576,540x648,640x768,720x864,736x883&from=bu&cs=108x130\"\n",
            "                            },\n",
            "                            {\n",
            "                                \"height\": 604,\n",
            "                                \"type\": \"x\",\n",
            "                                \"width\": 503,\n",
            "                                \"url\": \"https://sun9-20.userapi.com/s/v1/ig2/hbHxa3eeV96oKgm4sm1yRXiCWWlZuBaxT3o6VwwYbdH4wp50Br-TWjz0aelfkasEqtlcSEqGB8dthOINrejm7GGU.jpg?quality=95&as=32x38,48x58,72x86,108x130,160x192,240x288,360x432,480x576,540x648,640x768,720x864,736x883&from=bu&cs=503x604\"\n",
            "                            },\n",
            "                            {\n",
            "                                \"height\": 807,\n",
            "                                \"type\": \"y\",\n",
            "                                \"width\": 673,\n",
            "                                \"url\": \"https://sun9-20.userapi.com/s/v1/ig2/hbHxa3eeV96oKgm4sm1yRXiCWWlZuBaxT3o6VwwYbdH4wp50Br-TWjz0aelfkasEqtlcSEqGB8dthOINrejm7GGU.jpg?quality=95&as=32x38,48x58,72x86,108x130,160x192,240x288,360x432,480x576,540x648,640x768,720x864,736x883&from=bu&cs=673x807\"\n",
            "                            },\n",
            "                            {\n",
            "                                \"height\": 883,\n",
            "                                \"type\": \"z\",\n",
            "                                \"width\": 736,\n",
            "                                \"url\": \"https://sun9-20.userapi.com/s/v1/ig2/hbHxa3eeV96oKgm4sm1yRXiCWWlZuBaxT3o6VwwYbdH4wp50Br-TWjz0aelfkasEqtlcSEqGB8dthOINrejm7GGU.jpg?quality=95&as=32x38,48x58,72x86,108x130,160x192,240x288,360x432,480x576,540x648,640x768,720x864,736x883&from=bu&cs=736x883\"\n",
            "                            },\n",
            "                            {\n",
            "                                \"height\": 156,\n",
            "                                \"type\": \"o\",\n",
            "                                \"width\": 130,\n",
            "                                \"url\": \"https://sun9-20.userapi.com/s/v1/ig2/hbHxa3eeV96oKgm4sm1yRXiCWWlZuBaxT3o6VwwYbdH4wp50Br-TWjz0aelfkasEqtlcSEqGB8dthOINrejm7GGU.jpg?quality=95&as=32x38,48x58,72x86,108x130,160x192,240x288,360x432,480x576,540x648,640x768,720x864,736x883&from=bu&cs=130x156\"\n",
            "                            },\n",
            "                            {\n",
            "                                \"height\": 240,\n",
            "                                \"type\": \"p\",\n",
            "                                \"width\": 200,\n",
            "                                \"url\": \"https://sun9-20.userapi.com/s/v1/ig2/hbHxa3eeV96oKgm4sm1yRXiCWWlZuBaxT3o6VwwYbdH4wp50Br-TWjz0aelfkasEqtlcSEqGB8dthOINrejm7GGU.jpg?quality=95&as=32x38,48x58,72x86,108x130,160x192,240x288,360x432,480x576,540x648,640x768,720x864,736x883&from=bu&cs=200x240\"\n",
            "                            },\n",
            "                            {\n",
            "                                \"height\": 384,\n",
            "                                \"type\": \"q\",\n",
            "                                \"width\": 320,\n",
            "                                \"url\": \"https://sun9-20.userapi.com/s/v1/ig2/hbHxa3eeV96oKgm4sm1yRXiCWWlZuBaxT3o6VwwYbdH4wp50Br-TWjz0aelfkasEqtlcSEqGB8dthOINrejm7GGU.jpg?quality=95&as=32x38,48x58,72x86,108x130,160x192,240x288,360x432,480x576,540x648,640x768,720x864,736x883&from=bu&cs=320x384\"\n",
            "                            },\n",
            "                            {\n",
            "                                \"height\": 612,\n",
            "                                \"type\": \"r\",\n",
            "                                \"width\": 510,\n",
            "                                \"url\": \"https://sun9-20.userapi.com/s/v1/ig2/hbHxa3eeV96oKgm4sm1yRXiCWWlZuBaxT3o6VwwYbdH4wp50Br-TWjz0aelfkasEqtlcSEqGB8dthOINrejm7GGU.jpg?quality=95&as=32x38,48x58,72x86,108x130,160x192,240x288,360x432,480x576,540x648,640x768,720x864,736x883&from=bu&cs=510x612\"\n",
            "                            }\n",
            "                        ],\n",
            "                        \"text\": \"\",\n",
            "                        \"user_id\": 100,\n",
            "                        \"web_view_token\": \"713aab697a5b826655\",\n",
            "                        \"orig_photo\": {\n",
            "                            \"height\": 883,\n",
            "                            \"type\": \"base\",\n",
            "                            \"url\": \"https://sun9-20.userapi.com/s/v1/ig2/hbHxa3eeV96oKgm4sm1yRXiCWWlZuBaxT3o6VwwYbdH4wp50Br-TWjz0aelfkasEqtlcSEqGB8dthOINrejm7GGU.jpg?quality=95&as=32x38,48x58,72x86,108x130,160x192,240x288,360x432,480x576,540x648,640x768,720x864,736x883&from=bu\",\n",
            "                            \"width\": 736\n",
            "                        }\n",
            "                    }\n",
            "                },\n",
            "                {\n",
            "                    \"type\": \"photo\",\n",
            "                    \"photo\": {\n",
            "                        \"album_id\": -7,\n",
            "                        \"date\": 1705999578,\n",
            "                        \"id\": 457306487,\n",
            "                        \"owner_id\": -152947668,\n",
            "                        \"access_key\": \"d326d22e73dc8fa03b\",\n",
            "                        \"sizes\": [\n",
            "                            {\n",
            "                                \"height\": 75,\n",
            "                                \"type\": \"s\",\n",
            "                                \"width\": 60,\n",
            "                                \"url\": \"https://sun9-51.userapi.com/s/v1/ig2/GWzTxjhK1exlYFpvfzvzhT1WbDC1h3c4n71neQgqdRAaAoaq35M4H9tO-bg0XuK_vLgScSFTV1KUCyQrKIlW7vRc.jpg?quality=95&as=32x40,48x60,72x90,108x135,160x200,240x300,360x450,480x600,540x675,640x800,720x900&from=bu&cs=60x75\"\n",
            "                            },\n",
            "                            {\n",
            "                                \"height\": 130,\n",
            "                                \"type\": \"m\",\n",
            "                                \"width\": 104,\n",
            "                                \"url\": \"https://sun9-51.userapi.com/s/v1/ig2/GWzTxjhK1exlYFpvfzvzhT1WbDC1h3c4n71neQgqdRAaAoaq35M4H9tO-bg0XuK_vLgScSFTV1KUCyQrKIlW7vRc.jpg?quality=95&as=32x40,48x60,72x90,108x135,160x200,240x300,360x450,480x600,540x675,640x800,720x900&from=bu&cs=104x130\"\n",
            "                            },\n",
            "                            {\n",
            "                                \"height\": 604,\n",
            "                                \"type\": \"x\",\n",
            "                                \"width\": 483,\n",
            "                                \"url\": \"https://sun9-51.userapi.com/s/v1/ig2/GWzTxjhK1exlYFpvfzvzhT1WbDC1h3c4n71neQgqdRAaAoaq35M4H9tO-bg0XuK_vLgScSFTV1KUCyQrKIlW7vRc.jpg?quality=95&as=32x40,48x60,72x90,108x135,160x200,240x300,360x450,480x600,540x675,640x800,720x900&from=bu&cs=483x604\"\n",
            "                            },\n",
            "                            {\n",
            "                                \"height\": 807,\n",
            "                                \"type\": \"y\",\n",
            "                                \"width\": 646,\n",
            "                                \"url\": \"https://sun9-51.userapi.com/s/v1/ig2/GWzTxjhK1exlYFpvfzvzhT1WbDC1h3c4n71neQgqdRAaAoaq35M4H9tO-bg0XuK_vLgScSFTV1KUCyQrKIlW7vRc.jpg?quality=95&as=32x40,48x60,72x90,108x135,160x200,240x300,360x450,480x600,540x675,640x800,720x900&from=bu&cs=646x807\"\n",
            "                            },\n",
            "                            {\n",
            "                                \"height\": 900,\n",
            "                                \"type\": \"z\",\n",
            "                                \"width\": 720,\n",
            "                                \"url\": \"https://sun9-51.userapi.com/s/v1/ig2/GWzTxjhK1exlYFpvfzvzhT1WbDC1h3c4n71neQgqdRAaAoaq35M4H9tO-bg0XuK_vLgScSFTV1KUCyQrKIlW7vRc.jpg?quality=95&as=32x40,48x60,72x90,108x135,160x200,240x300,360x450,480x600,540x675,640x800,720x900&from=bu&cs=720x900\"\n",
            "                            },\n",
            "                            {\n",
            "                                \"height\": 162,\n",
            "                                \"type\": \"o\",\n",
            "                                \"width\": 130,\n",
            "                                \"url\": \"https://sun9-51.userapi.com/s/v1/ig2/GWzTxjhK1exlYFpvfzvzhT1WbDC1h3c4n71neQgqdRAaAoaq35M4H9tO-bg0XuK_vLgScSFTV1KUCyQrKIlW7vRc.jpg?quality=95&as=32x40,48x60,72x90,108x135,160x200,240x300,360x450,480x600,540x675,640x800,720x900&from=bu&cs=130x162\"\n",
            "                            },\n",
            "                            {\n",
            "                                \"height\": 250,\n",
            "                                \"type\": \"p\",\n",
            "                                \"width\": 200,\n",
            "                                \"url\": \"https://sun9-51.userapi.com/s/v1/ig2/GWzTxjhK1exlYFpvfzvzhT1WbDC1h3c4n71neQgqdRAaAoaq35M4H9tO-bg0XuK_vLgScSFTV1KUCyQrKIlW7vRc.jpg?quality=95&as=32x40,48x60,72x90,108x135,160x200,240x300,360x450,480x600,540x675,640x800,720x900&from=bu&cs=200x250\"\n",
            "                            },\n",
            "                            {\n",
            "                                \"height\": 400,\n",
            "                                \"type\": \"q\",\n",
            "                                \"width\": 320,\n",
            "                                \"url\": \"https://sun9-51.userapi.com/s/v1/ig2/GWzTxjhK1exlYFpvfzvzhT1WbDC1h3c4n71neQgqdRAaAoaq35M4H9tO-bg0XuK_vLgScSFTV1KUCyQrKIlW7vRc.jpg?quality=95&as=32x40,48x60,72x90,108x135,160x200,240x300,360x450,480x600,540x675,640x800,720x900&from=bu&cs=320x400\"\n",
            "                            },\n",
            "                            {\n",
            "                                \"height\": 637,\n",
            "                                \"type\": \"r\",\n",
            "                                \"width\": 510,\n",
            "                                \"url\": \"https://sun9-51.userapi.com/s/v1/ig2/GWzTxjhK1exlYFpvfzvzhT1WbDC1h3c4n71neQgqdRAaAoaq35M4H9tO-bg0XuK_vLgScSFTV1KUCyQrKIlW7vRc.jpg?quality=95&as=32x40,48x60,72x90,108x135,160x200,240x300,360x450,480x600,540x675,640x800,720x900&from=bu&cs=510x637\"\n",
            "                            }\n",
            "                        ],\n",
            "                        \"text\": \"\",\n",
            "                        \"user_id\": 100,\n",
            "                        \"web_view_token\": \"eb6f57f10c9b8cbbb4\",\n",
            "                        \"orig_photo\": {\n",
            "                            \"height\": 900,\n",
            "                            \"type\": \"base\",\n",
            "                            \"url\": \"https://sun9-51.userapi.com/s/v1/ig2/GWzTxjhK1exlYFpvfzvzhT1WbDC1h3c4n71neQgqdRAaAoaq35M4H9tO-bg0XuK_vLgScSFTV1KUCyQrKIlW7vRc.jpg?quality=95&as=32x40,48x60,72x90,108x135,160x200,240x300,360x450,480x600,540x675,640x800,720x900&from=bu\",\n",
            "                            \"width\": 720\n",
            "                        }\n",
            "                    }\n",
            "                }\n",
            "            ],\n",
            "            \"date\": 1705999579,\n",
            "            \"from_id\": -152947668,\n",
            "            \"id\": 126406,\n",
            "            \"is_favorite\": false,\n",
            "            \"likes\": {\n",
            "                \"can_like\": 1,\n",
            "                \"count\": 742,\n",
            "                \"user_likes\": 0,\n",
            "                \"can_publish\": 1,\n",
            "                \"repost_disabled\": false\n",
            "            },\n",
            "            \"owner_id\": -152947668,\n",
            "            \"post_source\": {\n",
            "                \"platform\": \"android\",\n",
            "                \"type\": \"api\"\n",
            "            },\n",
            "            \"post_type\": \"post\",\n",
            "            \"reposts\": {\n",
            "                \"count\": 85,\n",
            "                \"user_reposted\": 0\n",
            "            },\n",
            "            \"text\": \"❄💙❄💙❄💙❄💙❄\",\n",
            "            \"views\": {\n",
            "                \"count\": 35324\n",
            "            }\n",
            "        }\n",
            "    },\n",
            "    {\n",
            "        \"id\": \"video-28021233_456239018\",\n",
            "        \"text\": \"Кот Мейн Кун vs Очень Злая Собака. Звериные баталии. #МейнКунКот\",\n",
            "        \"datetime\": \"2016-05-19 18:52:10\",\n",
            "        \"attachments\": {\n",
            "            \"video\": [\n",
            "                \"https://www.youtube.com/embed/g3ac_hBYCIM?__ref=vk.api\"\n",
            "            ]\n",
            "        },\n",
            "        \"payload\": {\n",
            "            \"can_be_pinned\": false,\n",
            "            \"is_pinned\": false,\n",
            "            \"response_type\": \"full\",\n",
            "            \"can_comment\": 1,\n",
            "            \"can_like\": 1,\n",
            "            \"can_repost\": 1,\n",
            "            \"can_subscribe\": 1,\n",
            "            \"can_add_to_faves\": 1,\n",
            "            \"can_add\": 1,\n",
            "            \"comments\": 0,\n",
            "            \"date\": 1463683930,\n",
            "            \"description\": \"Питомник Мейн Кун кот играет с собакой. #МейнКунКот\\nПитомник в Москве  +7 (916) 609-40-81  Тел / WhatsApp / Viber\",\n",
            "            \"duration\": 50,\n",
            "            \"photo_130\": \"https://sun9-57.userapi.com/mMAvaigZFfTrCWY84t1s5DoO_cgFMBczRfHPyA/kr5cbIrov9M.jpg\",\n",
            "            \"photo_320\": \"https://sun9-31.userapi.com/qO2O_aLVHcPdsx4AiH4GzGyokN-8oQJSHgXawQ/tY8v2wPYLNE.jpg\",\n",
            "            \"photo_800\": \"https://sun9-12.userapi.com/cF2XAOp0PNPRTD567f9fRiZDl6_1JNZzOfjWXw/AofRrxuzyZ4.jpg\",\n",
            "            \"id\": 456239018,\n",
            "            \"owner_id\": -28021233,\n",
            "            \"user_id\": 283200822,\n",
            "            \"title\": \"Кот Мейн Кун vs Очень Злая Собака. Звериные баталии. #МейнКунКот\",\n",
            "            \"is_favorite\": false,\n",
            "            \"player\": \"https://www.youtube.com/embed/g3ac_hBYCIM?__ref=vk.api\",\n",
            "            \"added\": 0,\n",
            "            \"views\": 201,\n",
            "            \"platform\": \"YouTube\",\n",
            "            \"likes\": {\n",
            "                \"count\": 3,\n",
            "                \"user_likes\": 0\n",
            "            },\n",
            "            \"reposts\": {\n",
            "                \"count\": 0,\n",
            "                \"user_reposted\": 0\n",
            "            },\n",
            "            \"can_dislike\": 1\n",
            "        }\n",
            "    }\n",
            "]\n",
            "\u001b[0;33mWARNING:\u001b[0m [youtube] g3ac_hBYCIM: nsig extraction failed: Some formats may be missing\n",
            "         n = 3J1Sexb9UjHG_MzMr ; player = https://www.youtube.com/s/player/4e23410d/player_ias.vflset/en_US/base.js\n",
            "\u001b[0;33mWARNING:\u001b[0m [youtube] g3ac_hBYCIM: nsig extraction failed: Some formats may be missing\n",
            "         n = o1OT4T5gWbai6MdXh ; player = https://www.youtube.com/s/player/4e23410d/player_ias.vflset/en_US/base.js\n"
          ]
        }
      ],
      "source": [
        "!vk_url_scraper --username \"{USER}\" --password \"{PASS}\" --download --urls \"https://vk.com/wall-152947668_126406,https://vk.com/video/@kot_minsk?z=video-28021233_456239018%2Fclub28021233%2Fpl_-28021233\"_-2"
      ]
    },
    {
      "cell_type": "markdown",
      "metadata": {
        "id": "0eZBhqiCj4QZ"
      },
      "source": [
        "This tool can be used, for example, to automate the scraping and download of large number of URLs from VK."
      ]
    }
  ],
  "metadata": {
    "kernelspec": {
      "display_name": "open-source-research-notebooks-4sg58OrJ",
      "language": "python",
      "name": "python3"
    },
    "language_info": {
      "codemirror_mode": {
        "name": "ipython",
        "version": 3
      },
      "file_extension": ".py",
      "mimetype": "text/x-python",
      "name": "python",
      "nbconvert_exporter": "python",
      "pygments_lexer": "ipython3",
      "version": "3.10.12"
    },
    "colab": {
      "provenance": [],
      "include_colab_link": true
    }
  },
  "nbformat": 4,
  "nbformat_minor": 0
}