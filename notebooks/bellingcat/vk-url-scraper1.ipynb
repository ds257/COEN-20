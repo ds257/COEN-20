{
  "cells": [
    {
      "cell_type": "markdown",
      "metadata": {
        "id": "YGncJWjj9_lP"
      },
      "source": [
        "# VK URL Scraper\n",
        "\n",
        "<a href=\"https://www.bellingcat.com\"><img alt=\"Bellingcat logo: Discover Bellingcat\" src=\"https://img.shields.io/badge/Discover%20Bellingcat-%20?style=for-the-badge&logo=data%3Aimage%2Fpng%3Bbase64%2CiVBORw0KGgoAAAANSUhEUgAAAA4AAAAYCAYAAADKx8xXAAABhGlDQ1BJQ0MgcHJvZmlsZQAAKJF9kT1Iw0AcxV9TS0UqDnZQEcxQneyiIo6likWwUNoKrTqYXPoFTRqSFBdHwbXg4Mdi1cHFWVcHV0EQ%2FABxdnBSdJES%2F5cUWsR4cNyPd%2Fced%2B8AoVllqtkTA1TNMtKJuJjLr4rBVwQwhhBEDEvM1JOZxSw8x9c9fHy9i%2FIs73N%2Fjn6lYDLAJxLHmG5YxBvEs5uWznmfOMzKkkJ8Tjxp0AWJH7kuu%2FzGueSwwDPDRjY9TxwmFktdLHcxKxsq8QxxRFE1yhdyLiuctzir1Tpr35O%2FMFTQVjJcpzmKBJaQRIo6klFHBVVYiNKqkWIiTftxD%2F%2BI40%2BRSyZXBYwcC6hBheT4wf%2Fgd7dmcXrKTQrFgcCLbX%2BMA8FdoNWw7e9j226dAP5n4Err%2BGtNYO6T9EZHixwBA9vAxXVHk%2FeAyx1g6EmXDMmR%2FDSFYhF4P6NvygODt0Dfmttbex%2BnD0CWulq%2BAQ4OgYkSZa97vLu3u7d%2Fz7T7%2BwHEU3LHAa%2FQ6gAAAAZiS0dEAAAAAAAA%2BUO7fwAAAAlwSFlzAAAuIwAALiMBeKU%2FdgAAAAd0SU1FB%2BgFHwwiMH4odB4AAAAZdEVYdENvbW1lbnQAQ3JlYXRlZCB3aXRoIEdJTVBXgQ4XAAAA50lEQVQ4y82SvWpCQRCFz25ERSJiCNqlUiS1b5AuEEiZIq1NOsGXCKms0wXSp9T6dskDiFikyiPc%2FrMZyf3FXSGQ0%2BzuzPl2ZoeVKgQ0gQ2wBVpVHlcDkjM5V%2FJ5nag6sJ%2FZX%2Bh%2FC7gEhqeAFKf7p1M9aB3b5oN1OomB7g1axUBPBr3GQHODHmOgqUF3MZAzKI2d4LWBV4H%2BMXDuJd1a7Cew1k7SwksaHC4LqNaw7aeX9GWHXkC1G1sTAS17Y3Kk2lnp4wNLiz0DrgLq8qt2MfmSSabAO%2FBBXp26dtrADPjOmN%2BAUdG7B3cE61l5hOZiAAAAAElFTkSuQmCC&logoColor=%23fff&color=%23000\"></a><!--\n",
        "--><a href=\"https://discord.gg/bellingcat\"><img alt=\"Discord logo: Join our community\" src=\"https://img.shields.io/badge/Join%20our%20community-%20?style=for-the-badge&logo=discord&logoColor=%23fff&color=%235865F2\"></a><!--\n",
        "--><a href=\"https://github.com/bellingcat/vk-url-scraper\"><img alt=\"Github logo: Explore the code\" src=\"https://img.shields.io/badge/Explore%20the%20code-%20?style=for-the-badge&logo=github&color=%2329903b\"></a>\n",
        "\n",
        "This tool allows you to download all the information and media from one or many VKontakte/ВКонтакте/VK URLs in [JSON](https://developer.mozilla.org/en-US/docs/Learn/JavaScript/Objects/JSON) format, along with all their media.\n",
        "\n",
        "To use it, you first need to create an account on the platform which typically requires a valid phone number and email.\n",
        "\n",
        "This notebook will show you how to authenticate into VK with Bellingcat's [vk-url-scraper](https://github.com/bellingcat/vk-url-scraper/) tool and how to then download posts from the social media site, including media such as photos and videos.\n",
        "\n",
        "- Code and issue management: https://github.com/bellingcat/vk-url-scraper/\n",
        "- Python package: https://pypi.org/project/vk-url-scraper/\n",
        "- Documentation: https://vk-url-scraper.readthedocs.io/en/latest/"
      ]
    },
    {
      "cell_type": "markdown",
      "metadata": {
        "id": "JSG7TTLF9_lR"
      },
      "source": [
        "To run this notebook you need a valid `username/phone` and `password` for vk.com.\n",
        "\n",
        "Enter these below and they will be used throughout the notebook."
      ]
    },
    {
      "cell_type": "code",
      "execution_count": 6,
      "metadata": {
        "id": "hVGqRQtt9_lR"
      },
      "outputs": [],
      "source": [
        "USER = \"+14245223481\"\n",
        "PASS = \"RyanLAEmily123?.\""
      ]
    },
    {
      "cell_type": "markdown",
      "metadata": {
        "id": "p1yWIiUm9_lR"
      },
      "source": [
        "### Step 1 - install the python package\n",
        "This project depends on another tool whose python packaged has not been updated at time of writing, so we have to hack its installation directly from github, and accordingly perform the authentication into VK with some Python code in Step 2.\n",
        "\n",
        "> NOTE: if you get a `You must restart the runtime in order to use newly installed versions.` pop up on Google Colab, go ahead and click restart. After the restart you can move on to the next cells."
      ]
    },
    {
      "cell_type": "code",
      "execution_count": 1,
      "metadata": {
        "id": "Sy_HWVMi9_lS",
        "outputId": "c31cc4e9-0eea-45b6-eb8c-6cc67e9ca5b6",
        "colab": {
          "base_uri": "https://localhost:8080/"
        }
      },
      "outputs": [
        {
          "output_type": "stream",
          "name": "stdout",
          "text": [
            "Requirement already satisfied: vk-url-scraper in /usr/local/lib/python3.10/dist-packages (0.3.30)\n",
            "Requirement already satisfied: aiohttp==3.9.1 in /usr/local/lib/python3.10/dist-packages (from vk-url-scraper) (3.9.1)\n",
            "Requirement already satisfied: aiosignal==1.3.1 in /usr/local/lib/python3.10/dist-packages (from vk-url-scraper) (1.3.1)\n",
            "Requirement already satisfied: alabaster==0.7.16 in /usr/local/lib/python3.10/dist-packages (from vk-url-scraper) (0.7.16)\n",
            "Requirement already satisfied: anyio==4.4.0 in /usr/local/lib/python3.10/dist-packages (from vk-url-scraper) (4.4.0)\n",
            "Requirement already satisfied: async-timeout==4.0.3 in /usr/local/lib/python3.10/dist-packages (from vk-url-scraper) (4.0.3)\n",
            "Requirement already satisfied: attrs==23.2.0 in /usr/local/lib/python3.10/dist-packages (from vk-url-scraper) (23.2.0)\n",
            "Requirement already satisfied: Babel==2.15.0 in /usr/local/lib/python3.10/dist-packages (from vk-url-scraper) (2.15.0)\n",
            "Requirement already satisfied: backports.tarfile==1.2.0 in /usr/local/lib/python3.10/dist-packages (from vk-url-scraper) (1.2.0)\n",
            "Requirement already satisfied: beautifulsoup4==4.13.0b2 in /usr/local/lib/python3.10/dist-packages (from vk-url-scraper) (4.13.0b2)\n",
            "Requirement already satisfied: black==24.4.2 in /usr/local/lib/python3.10/dist-packages (from vk-url-scraper) (24.4.2)\n",
            "Requirement already satisfied: bleach==6.0.0 in /usr/local/lib/python3.10/dist-packages (from vk-url-scraper) (6.0.0)\n",
            "Requirement already satisfied: Brotli==1.1.0 in /usr/local/lib/python3.10/dist-packages (from vk-url-scraper) (1.1.0)\n",
            "Requirement already satisfied: certifi==2024.7.4 in /usr/local/lib/python3.10/dist-packages (from vk-url-scraper) (2024.7.4)\n",
            "Requirement already satisfied: cffi==1.17.0rc1 in /usr/local/lib/python3.10/dist-packages (from vk-url-scraper) (1.17.0rc1)\n",
            "Requirement already satisfied: charset-normalizer==3.3.2 in /usr/local/lib/python3.10/dist-packages (from vk-url-scraper) (3.3.2)\n",
            "Requirement already satisfied: click==8.1.7 in /usr/local/lib/python3.10/dist-packages (from vk-url-scraper) (8.1.7)\n",
            "Requirement already satisfied: colorama==0.4.6 in /usr/local/lib/python3.10/dist-packages (from vk-url-scraper) (0.4.6)\n",
            "Requirement already satisfied: commonmark==0.9.1 in /usr/local/lib/python3.10/dist-packages (from vk-url-scraper) (0.9.1)\n",
            "Requirement already satisfied: coverage==7.6.0 in /usr/local/lib/python3.10/dist-packages (from vk-url-scraper) (7.6.0)\n",
            "Requirement already satisfied: cryptography==42.0.8 in /usr/local/lib/python3.10/dist-packages (from vk-url-scraper) (42.0.8)\n",
            "Requirement already satisfied: docutils==0.18.1 in /usr/local/lib/python3.10/dist-packages (from vk-url-scraper) (0.18.1)\n",
            "Requirement already satisfied: exceptiongroup==1.2.2 in /usr/local/lib/python3.10/dist-packages (from vk-url-scraper) (1.2.2)\n",
            "Requirement already satisfied: flake8==7.1.0 in /usr/local/lib/python3.10/dist-packages (from vk-url-scraper) (7.1.0)\n",
            "Requirement already satisfied: frozenlist==1.4.1 in /usr/local/lib/python3.10/dist-packages (from vk-url-scraper) (1.4.1)\n",
            "Requirement already satisfied: furo==2023.3.27 in /usr/local/lib/python3.10/dist-packages (from vk-url-scraper) (2023.3.27)\n",
            "Requirement already satisfied: h11==0.14.0 in /usr/local/lib/python3.10/dist-packages (from vk-url-scraper) (0.14.0)\n",
            "Requirement already satisfied: idna==3.7 in /usr/local/lib/python3.10/dist-packages (from vk-url-scraper) (3.7)\n",
            "Requirement already satisfied: imagesize==1.4.1 in /usr/local/lib/python3.10/dist-packages (from vk-url-scraper) (1.4.1)\n",
            "Requirement already satisfied: importlib-metadata==8.0.0 in /usr/local/lib/python3.10/dist-packages (from vk-url-scraper) (8.0.0)\n",
            "Requirement already satisfied: iniconfig==2.0.0 in /usr/local/lib/python3.10/dist-packages (from vk-url-scraper) (2.0.0)\n",
            "Requirement already satisfied: isort==6.0.0b2 in /usr/local/lib/python3.10/dist-packages (from vk-url-scraper) (6.0.0b2)\n",
            "Requirement already satisfied: jaraco.classes==3.4.0 in /usr/local/lib/python3.10/dist-packages (from vk-url-scraper) (3.4.0)\n",
            "Requirement already satisfied: jaraco.context==5.3.0 in /usr/local/lib/python3.10/dist-packages (from vk-url-scraper) (5.3.0)\n",
            "Requirement already satisfied: jaraco.functools==4.0.1 in /usr/local/lib/python3.10/dist-packages (from vk-url-scraper) (4.0.1)\n",
            "Requirement already satisfied: jeepney==0.8.0 in /usr/local/lib/python3.10/dist-packages (from vk-url-scraper) (0.8.0)\n",
            "Requirement already satisfied: Jinja2==3.1.4 in /usr/local/lib/python3.10/dist-packages (from vk-url-scraper) (3.1.4)\n",
            "Requirement already satisfied: keyring==25.2.1 in /usr/local/lib/python3.10/dist-packages (from vk-url-scraper) (25.2.1)\n",
            "Requirement already satisfied: livereload==2.6.3 in /usr/local/lib/python3.10/dist-packages (from vk-url-scraper) (2.6.3)\n",
            "Requirement already satisfied: markdown-it-py==2.2.0 in /usr/local/lib/python3.10/dist-packages (from vk-url-scraper) (2.2.0)\n",
            "Requirement already satisfied: MarkupSafe==2.1.5 in /usr/local/lib/python3.10/dist-packages (from vk-url-scraper) (2.1.5)\n",
            "Requirement already satisfied: mccabe==0.7.0 in /usr/local/lib/python3.10/dist-packages (from vk-url-scraper) (0.7.0)\n",
            "Requirement already satisfied: mdit-py-plugins==0.3.5 in /usr/local/lib/python3.10/dist-packages (from vk-url-scraper) (0.3.5)\n",
            "Requirement already satisfied: mdurl==0.1.2 in /usr/local/lib/python3.10/dist-packages (from vk-url-scraper) (0.1.2)\n",
            "Requirement already satisfied: more-itertools==10.3.0 in /usr/local/lib/python3.10/dist-packages (from vk-url-scraper) (10.3.0)\n",
            "Requirement already satisfied: multidict==6.0.4 in /usr/local/lib/python3.10/dist-packages (from vk-url-scraper) (6.0.4)\n",
            "Requirement already satisfied: mutagen==1.47.0 in /usr/local/lib/python3.10/dist-packages (from vk-url-scraper) (1.47.0)\n",
            "Requirement already satisfied: mypy==1.10.1 in /usr/local/lib/python3.10/dist-packages (from vk-url-scraper) (1.10.1)\n",
            "Requirement already satisfied: mypy-extensions==1.0.0 in /usr/local/lib/python3.10/dist-packages (from vk-url-scraper) (1.0.0)\n",
            "Requirement already satisfied: myst-parser==0.18.1 in /usr/local/lib/python3.10/dist-packages (from vk-url-scraper) (0.18.1)\n",
            "Requirement already satisfied: nh3==0.2.18 in /usr/local/lib/python3.10/dist-packages (from vk-url-scraper) (0.2.18)\n",
            "Requirement already satisfied: packaging==24.1 in /usr/local/lib/python3.10/dist-packages (from vk-url-scraper) (24.1)\n",
            "Requirement already satisfied: pathspec==0.12.1 in /usr/local/lib/python3.10/dist-packages (from vk-url-scraper) (0.12.1)\n",
            "Requirement already satisfied: pkginfo==1.10.0 in /usr/local/lib/python3.10/dist-packages (from vk-url-scraper) (1.10.0)\n",
            "Requirement already satisfied: platformdirs==4.2.2 in /usr/local/lib/python3.10/dist-packages (from vk-url-scraper) (4.2.2)\n",
            "Requirement already satisfied: pluggy==1.5.0 in /usr/local/lib/python3.10/dist-packages (from vk-url-scraper) (1.5.0)\n",
            "Requirement already satisfied: py==1.11.0 in /usr/local/lib/python3.10/dist-packages (from vk-url-scraper) (1.11.0)\n",
            "Requirement already satisfied: pycodestyle==2.12.0 in /usr/local/lib/python3.10/dist-packages (from vk-url-scraper) (2.12.0)\n",
            "Requirement already satisfied: pycparser==2.22 in /usr/local/lib/python3.10/dist-packages (from vk-url-scraper) (2.22)\n",
            "Requirement already satisfied: pycryptodomex==3.20.0 in /usr/local/lib/python3.10/dist-packages (from vk-url-scraper) (3.20.0)\n",
            "Requirement already satisfied: pyflakes==3.2.0 in /usr/local/lib/python3.10/dist-packages (from vk-url-scraper) (3.2.0)\n",
            "Requirement already satisfied: Pygments==2.18.0 in /usr/local/lib/python3.10/dist-packages (from vk-url-scraper) (2.18.0)\n",
            "Requirement already satisfied: pyparsing==3.0.9 in /usr/local/lib/python3.10/dist-packages (from vk-url-scraper) (3.0.9)\n",
            "Requirement already satisfied: pytest==8.2.2 in /usr/local/lib/python3.10/dist-packages (from vk-url-scraper) (8.2.2)\n",
            "Requirement already satisfied: pytest-cov==5.0.0 in /usr/local/lib/python3.10/dist-packages (from vk-url-scraper) (5.0.0)\n",
            "Requirement already satisfied: pytest-sphinx==0.6.3 in /usr/local/lib/python3.10/dist-packages (from vk-url-scraper) (0.6.3)\n",
            "Requirement already satisfied: python-dotenv==1.0.1 in /usr/local/lib/python3.10/dist-packages (from vk-url-scraper) (1.0.1)\n",
            "Requirement already satisfied: pytz==2022.1 in /usr/local/lib/python3.10/dist-packages (from vk-url-scraper) (2022.1)\n",
            "Requirement already satisfied: PyYAML==6.0.2rc1 in /usr/local/lib/python3.10/dist-packages (from vk-url-scraper) (6.0.2rc1)\n",
            "Requirement already satisfied: readme-renderer==43.0 in /usr/local/lib/python3.10/dist-packages (from vk-url-scraper) (43.0)\n",
            "Requirement already satisfied: requests==2.32.3 in /usr/local/lib/python3.10/dist-packages (from vk-url-scraper) (2.32.3)\n",
            "Requirement already satisfied: requests-toolbelt==1.0.0 in /usr/local/lib/python3.10/dist-packages (from vk-url-scraper) (1.0.0)\n",
            "Requirement already satisfied: rfc3986==2.0.0 in /usr/local/lib/python3.10/dist-packages (from vk-url-scraper) (2.0.0)\n",
            "Requirement already satisfied: rich==13.7.1 in /usr/local/lib/python3.10/dist-packages (from vk-url-scraper) (13.7.1)\n",
            "Requirement already satisfied: SecretStorage==3.3.3 in /usr/local/lib/python3.10/dist-packages (from vk-url-scraper) (3.3.3)\n",
            "Requirement already satisfied: six==1.16.0 in /usr/local/lib/python3.10/dist-packages (from vk-url-scraper) (1.16.0)\n",
            "Requirement already satisfied: sniffio==1.3.1 in /usr/local/lib/python3.10/dist-packages (from vk-url-scraper) (1.3.1)\n",
            "Requirement already satisfied: snowballstemmer==2.2.0 in /usr/local/lib/python3.10/dist-packages (from vk-url-scraper) (2.2.0)\n",
            "Requirement already satisfied: soupsieve==2.5 in /usr/local/lib/python3.10/dist-packages (from vk-url-scraper) (2.5)\n",
            "Requirement already satisfied: Sphinx==5.0.2 in /usr/local/lib/python3.10/dist-packages (from vk-url-scraper) (5.0.2)\n",
            "Requirement already satisfied: sphinx-autobuild==2024.4.16 in /usr/local/lib/python3.10/dist-packages (from vk-url-scraper) (2024.4.16)\n",
            "Requirement already satisfied: sphinx-autodoc-typehints==1.19.1 in /usr/local/lib/python3.10/dist-packages (from vk-url-scraper) (1.19.1)\n",
            "Requirement already satisfied: sphinx-basic-ng==1.0.0b2 in /usr/local/lib/python3.10/dist-packages (from vk-url-scraper) (1.0.0b2)\n",
            "Requirement already satisfied: sphinx-copybutton==0.5.2 in /usr/local/lib/python3.10/dist-packages (from vk-url-scraper) (0.5.2)\n",
            "Requirement already satisfied: sphinxcontrib-applehelp==1.0.8 in /usr/local/lib/python3.10/dist-packages (from vk-url-scraper) (1.0.8)\n",
            "Requirement already satisfied: sphinxcontrib-devhelp==1.0.6 in /usr/local/lib/python3.10/dist-packages (from vk-url-scraper) (1.0.6)\n",
            "Requirement already satisfied: sphinxcontrib-htmlhelp==2.0.5 in /usr/local/lib/python3.10/dist-packages (from vk-url-scraper) (2.0.5)\n",
            "Requirement already satisfied: sphinxcontrib-jsmath==1.0.1 in /usr/local/lib/python3.10/dist-packages (from vk-url-scraper) (1.0.1)\n",
            "Requirement already satisfied: sphinxcontrib-qthelp==1.0.7 in /usr/local/lib/python3.10/dist-packages (from vk-url-scraper) (1.0.7)\n",
            "Requirement already satisfied: sphinxcontrib-serializinghtml==1.1.10 in /usr/local/lib/python3.10/dist-packages (from vk-url-scraper) (1.1.10)\n",
            "Requirement already satisfied: starlette==0.37.2 in /usr/local/lib/python3.10/dist-packages (from vk-url-scraper) (0.37.2)\n",
            "Requirement already satisfied: tomli==2.0.1 in /usr/local/lib/python3.10/dist-packages (from vk-url-scraper) (2.0.1)\n",
            "Requirement already satisfied: tornado==6.4 in /usr/local/lib/python3.10/dist-packages (from vk-url-scraper) (6.4)\n",
            "Requirement already satisfied: twine==5.1.1 in /usr/local/lib/python3.10/dist-packages (from vk-url-scraper) (5.1.1)\n",
            "Requirement already satisfied: typing-extensions==4.12.2 in /usr/local/lib/python3.10/dist-packages (from vk-url-scraper) (4.12.2)\n",
            "Requirement already satisfied: urllib3==2.2.2 in /usr/local/lib/python3.10/dist-packages (from vk-url-scraper) (2.2.2)\n",
            "Requirement already satisfied: uvicorn==0.30.1 in /usr/local/lib/python3.10/dist-packages (from vk-url-scraper) (0.30.1)\n",
            "Requirement already satisfied: vk-api==11.9.9 in /usr/local/lib/python3.10/dist-packages (from vk-url-scraper) (11.9.9)\n",
            "Requirement already satisfied: watchfiles==0.22.0 in /usr/local/lib/python3.10/dist-packages (from vk-url-scraper) (0.22.0)\n",
            "Requirement already satisfied: webencodings==0.5.1 in /usr/local/lib/python3.10/dist-packages (from vk-url-scraper) (0.5.1)\n",
            "Requirement already satisfied: websockets==12.0 in /usr/local/lib/python3.10/dist-packages (from vk-url-scraper) (12.0)\n",
            "Requirement already satisfied: yarl==1.9.4 in /usr/local/lib/python3.10/dist-packages (from vk-url-scraper) (1.9.4)\n",
            "Requirement already satisfied: yt-dlp==2024.7.15.232803.dev0 in /usr/local/lib/python3.10/dist-packages (from vk-url-scraper) (2024.7.15.232803.dev0)\n",
            "Requirement already satisfied: zipp==3.19.2 in /usr/local/lib/python3.10/dist-packages (from vk-url-scraper) (3.19.2)\n"
          ]
        }
      ],
      "source": [
        "# first install the package (see Note above)\n",
        "!pip install vk-url-scraper"
      ]
    },
    {
      "cell_type": "code",
      "execution_count": 2,
      "metadata": {
        "id": "S79Bg6lj9_lS",
        "outputId": "fa8648ac-c18b-4924-d876-21ef83f88a25",
        "colab": {
          "base_uri": "https://localhost:8080/"
        }
      },
      "outputs": [
        {
          "output_type": "stream",
          "name": "stdout",
          "text": [
            "Found existing installation: vk-api 11.9.9\n",
            "Uninstalling vk-api-11.9.9:\n",
            "  Successfully uninstalled vk-api-11.9.9\n",
            "Collecting git+https://github.com/python273/vk_api.git@b99dac0ec2f832a6c4b20bde49869e7229ce4742\n",
            "  Cloning https://github.com/python273/vk_api.git (to revision b99dac0ec2f832a6c4b20bde49869e7229ce4742) to /tmp/pip-req-build-iitrxe7i\n",
            "  Running command git clone --filter=blob:none --quiet https://github.com/python273/vk_api.git /tmp/pip-req-build-iitrxe7i\n",
            "  Running command git rev-parse -q --verify 'sha^b99dac0ec2f832a6c4b20bde49869e7229ce4742'\n",
            "  Running command git fetch -q https://github.com/python273/vk_api.git b99dac0ec2f832a6c4b20bde49869e7229ce4742\n",
            "  Running command git checkout -q b99dac0ec2f832a6c4b20bde49869e7229ce4742\n",
            "  Resolved https://github.com/python273/vk_api.git to commit b99dac0ec2f832a6c4b20bde49869e7229ce4742\n",
            "  Preparing metadata (setup.py) ... \u001b[?25l\u001b[?25hdone\n",
            "Requirement already satisfied: requests<3.0.0,>=2.20.0 in /usr/local/lib/python3.10/dist-packages (from vk_api==11.9.9) (2.32.3)\n",
            "Requirement already satisfied: charset-normalizer<4,>=2 in /usr/local/lib/python3.10/dist-packages (from requests<3.0.0,>=2.20.0->vk_api==11.9.9) (3.3.2)\n",
            "Requirement already satisfied: idna<4,>=2.5 in /usr/local/lib/python3.10/dist-packages (from requests<3.0.0,>=2.20.0->vk_api==11.9.9) (3.7)\n",
            "Requirement already satisfied: urllib3<3,>=1.21.1 in /usr/local/lib/python3.10/dist-packages (from requests<3.0.0,>=2.20.0->vk_api==11.9.9) (2.2.2)\n",
            "Requirement already satisfied: certifi>=2017.4.17 in /usr/local/lib/python3.10/dist-packages (from requests<3.0.0,>=2.20.0->vk_api==11.9.9) (2024.7.4)\n",
            "Building wheels for collected packages: vk_api\n",
            "  Building wheel for vk_api (setup.py) ... \u001b[?25l\u001b[?25hdone\n",
            "  Created wheel for vk_api: filename=vk_api-11.9.9-py3-none-any.whl size=49695 sha256=d4bebb770aa61298d66ccfe21a77d9a0d8e8f03785a8c691f6fa0a0d3f72de14\n",
            "  Stored in directory: /root/.cache/pip/wheels/11/9f/33/62bb8e0fe036a1b92f0b4482b6be482ce00a6dc2a41272e2e0\n",
            "Successfully built vk_api\n",
            "Installing collected packages: vk_api\n",
            "Successfully installed vk_api-11.9.9\n"
          ]
        }
      ],
      "source": [
        "# then uninstall the broken dependency and install a fixed one\n",
        "!pip uninstall vk-api -y\n",
        "!pip install git+https://github.com/python273/vk_api.git@b99dac0ec2f832a6c4b20bde49869e7229ce4742"
      ]
    },
    {
      "cell_type": "code",
      "execution_count": 3,
      "metadata": {
        "id": "9xfe95C49_lS",
        "outputId": "00b05a71-479f-410c-bb2d-899960c33b74",
        "colab": {
          "base_uri": "https://localhost:8080/"
        }
      },
      "outputs": [
        {
          "output_type": "stream",
          "name": "stdout",
          "text": [
            "usage: vk_url_scraper [-h] -u USERNAME -p PASSWORD [-t TOKEN] [-d | --download | --no-download]\n",
            "                      --urls ...\n",
            "\n",
            "Authenticate and scrape information from vk.com based on a URL or set of URLs.\n",
            "\n",
            "options:\n",
            "  -h, --help            show this help message and exit\n",
            "  -u USERNAME, --username USERNAME\n",
            "                        username for a valid vk.com account (pass empty if using --token)\n",
            "  -p PASSWORD, --password PASSWORD\n",
            "                        password for the valid vk.com account (pass empty if using --token)\n",
            "  -t TOKEN, --token TOKEN\n",
            "                        optional token, when passed username/password authentication will not be\n",
            "                        done - good to avoid captcha issues\n",
            "  -d, --download, --no-download\n",
            "                        if set then all photos and videos will be downloaded to folder output/\n",
            "  --urls ...            must be the last argument: any text with one or more urls to scrape\n"
          ]
        }
      ],
      "source": [
        "# to make sure the installation is successful we can call the help method of the tool\n",
        "!vk_url_scraper --help"
      ]
    },
    {
      "cell_type": "markdown",
      "metadata": {
        "id": "N4lWL3AN9_lT"
      },
      "source": [
        "### Step 2 - login\n",
        "The next cell contains helper python code needed the first time you login."
      ]
    },
    {
      "cell_type": "code",
      "execution_count": 4,
      "metadata": {
        "id": "v_bedvm-9_lT"
      },
      "outputs": [],
      "source": [
        "import vk_api\n",
        "\n",
        "def captcha_handler(captcha):\n",
        "    key = input(\n",
        "        f\"CAPTCHA DETECTED, please solve it and input the solution. url= {captcha.get_url()} :\"\n",
        "    ).strip()\n",
        "    return captcha.try_again(key.strip())"
      ]
    },
    {
      "cell_type": "markdown",
      "metadata": {
        "id": "HrZfAJdN9_lT"
      },
      "source": [
        "The next code cell tries to login with the credentials you provided above.\n",
        "\n",
        "You may get a `CAPTCHA DETECTED` message and a URL. In that case, go to the URL, solve the captcha and input it by clicking on the text box on the right of the message (different notebook environments have different appearances and in some the textbox is only visible when you click it)."
      ]
    },
    {
      "cell_type": "code",
      "execution_count": 8,
      "metadata": {
        "id": "YqtMOo_U9_lU",
        "outputId": "dcebbc48-a6af-4f3a-e21f-fbe665784bb4",
        "colab": {
          "base_uri": "https://localhost:8080/"
        }
      },
      "outputs": [
        {
          "output_type": "stream",
          "name": "stdout",
          "text": [
            "Authenticated successfully\n",
            "Could not access comments for post https://vk.com/wall428088150_83185: [212] Access to post comments denied\n",
            "Could not access comments for post https://vk.com/wall468804996_62587: [212] Access to post comments denied\n",
            "Could not access comments for post https://vk.com/wall428088150_83028: [212] Access to post comments denied\n",
            "Could not access comments for post https://vk.com/wall867316373_522: [212] Access to post comments denied\n",
            "Could not access comments for post https://vk.com/wall587799873_56830: [212] Access to post comments denied\n",
            "Could not access comments for post https://vk.com/wall303694198_6224: [212] Access to post comments denied\n",
            "Data saved to vk_posts.json\n"
          ]
        }
      ],
      "source": [
        "(vk_api.VkApi(USER,PASS,captcha_handler=captcha_handler)).auth(token_only=True)\n",
        "\n",
        "\n",
        "\n",
        "\n",
        "import json\n",
        "# Initialize VK API session and authenticate\n",
        "session = vk_api.VkApi(USER, PASS)\n",
        "try:\n",
        "    session.auth()\n",
        "    print(\"Authenticated successfully\")\n",
        "except vk_api.AuthError as error_msg:\n",
        "    print(\"Authentication failed:\", error_msg)\n",
        "\n",
        "# Access API with the authenticated session\n",
        "vk = session.get_api()\n",
        "\n",
        "# Define a keyword for searching posts\n",
        "keyword = \"Moldovan President\"\n",
        "\n",
        "# Search posts containing the keyword\n",
        "posts = vk.newsfeed.search(q=keyword, count=200)  # Adjust count as needed\n",
        "\n",
        "# Extract URLs and details from each post\n",
        "post_details = []\n",
        "\n",
        "for post in posts['items']:\n",
        "    owner_id = post['owner_id']\n",
        "    post_id = post['id']\n",
        "    url = f\"https://vk.com/wall{owner_id}_{post_id}\"\n",
        "\n",
        "    # Fetching post details\n",
        "    post_info = vk.wall.getById(posts=f\"{owner_id}_{post_id}\")[0]\n",
        "\n",
        "    # Get text content\n",
        "    text = post_info.get(\"text\", \"\")\n",
        "\n",
        "    # Get likes count\n",
        "    likes_count = post_info.get(\"likes\", {}).get(\"count\", 0)\n",
        "\n",
        "    # Get comments count\n",
        "    comments_count = post_info.get(\"comments\", {}).get(\"count\", 0)\n",
        "\n",
        "    # Attempt to fetch comments, handling any access restrictions\n",
        "    comment_texts = []\n",
        "    try:\n",
        "        comments = vk.wall.getComments(owner_id=owner_id, post_id=post_id, count=100)  # Limit to 10 comments for demonstration\n",
        "        comment_texts = [comment['text'] for comment in comments['items']]\n",
        "    except vk_api.exceptions.ApiError as e:\n",
        "        print(f\"Could not access comments for post {url}: {e}\")\n",
        "\n",
        "    # Extract media (photos and videos)\n",
        "    photos = []\n",
        "    videos = []\n",
        "    attachments = post_info.get(\"attachments\", [])\n",
        "\n",
        "    for attachment in attachments:\n",
        "        if attachment['type'] == 'photo':\n",
        "            # Get the largest available photo URL\n",
        "            photo_url = max(attachment['photo']['sizes'], key=lambda size: size['width'])['url']\n",
        "            photos.append(photo_url)\n",
        "        elif attachment['type'] == 'video':\n",
        "            # Get video info (requires additional API call to get full URL)\n",
        "            video_id = attachment['video']['id']\n",
        "            video_owner_id = attachment['video']['owner_id']\n",
        "            try:\n",
        "                video_info = vk.video.get(videos=f\"{video_owner_id}_{video_id}\")['items']\n",
        "                if video_info:\n",
        "                    video_url = video_info[0].get('player', '')\n",
        "                    videos.append(video_url)\n",
        "            except vk_api.exceptions.ApiError as e:\n",
        "                print(f\"Could not access video for post {url}: {e}\")\n",
        "\n",
        "    # Append all details to the post_details list\n",
        "    post_details.append({\n",
        "        \"url\": url,\n",
        "        \"text\": text,\n",
        "        \"likes_count\": likes_count,\n",
        "        \"comments_count\": comments_count,\n",
        "        \"comments\": comment_texts,\n",
        "        \"photos\": photos,\n",
        "        \"videos\": videos\n",
        "    })\n",
        "\n",
        "# Write collected details to a JSON file\n",
        "with open(\"vk_posts.json\", \"w\", encoding=\"utf-8\") as f:\n",
        "    json.dump(post_details, f, ensure_ascii=False, indent=4)\n",
        "\n",
        "print(\"Data saved to vk_posts.json\")\n"
      ]
    },
    {
      "cell_type": "markdown",
      "metadata": {
        "id": "u8yl6eeo9_lU"
      },
      "source": [
        "A `vk_config.v2.json` file should have been created, it contains your access tokens so don't share it.\n",
        "\n",
        "When that file is present you don't need to re-run the python code in this section."
      ]
    },
    {
      "cell_type": "markdown",
      "metadata": {
        "id": "iNZyu9Hs9_lU"
      },
      "source": [
        "### Step 3 - scrape a post\n",
        "We will scrape a post with both text and images using the VK API: https://vk.com/wall-152947668_126406\n",
        "\n",
        "This will only work if the `vk_config.v2.json` file is present (see Step 2).\n",
        "\n",
        "The results will be written to `scraped.json` file, if you want to see it in the console remove the final part of the command `> scraped.json`."
      ]
    },
    {
      "cell_type": "code",
      "execution_count": null,
      "metadata": {
        "id": "oh6wu_oe9_lU"
      },
      "outputs": [],
      "source": [
        "!vk_url_scraper --username \"{USER}\" --password \"{PASS}\" --urls https://vk.com/wall-152947668_126406 > scraped.json"
      ]
    },
    {
      "cell_type": "code",
      "execution_count": null,
      "metadata": {
        "id": "RDFOHrQ-9_lU"
      },
      "outputs": [],
      "source": [
        "# let's read the first lines of scraped.json to make sure it's working\n",
        "!head scraped.json"
      ]
    },
    {
      "cell_type": "markdown",
      "metadata": {
        "id": "t6ArNfgB9_lU"
      },
      "source": [
        "Besides the post data, we can automatically `--download` the media.\n",
        "\n",
        "Let's pass two URLs, one with images and one with videos and download all of them.\n",
        "\n",
        "You can add as many as you want at once, so long as you separate them by a comma `,`.\n",
        "\n",
        "The JSON will be written to the console, you can direct it to a JSON file for latter processing by appending `> my_output_filename.json`."
      ]
    },
    {
      "cell_type": "code",
      "execution_count": null,
      "metadata": {
        "id": "GQVWGG729_lU"
      },
      "outputs": [],
      "source": [
        "!vk_url_scraper --username \"{USER}\" --password \"{PASS}\" --download --urls \"https://vk.com/wall-152947668_126406,https://vk.com/video/@kot_minsk?z=video-28021233_456239018%2Fclub28021233%2Fpl_-28021233\"_-2"
      ]
    },
    {
      "cell_type": "markdown",
      "metadata": {
        "id": "8xLLsk6d9_lV"
      },
      "source": [
        "This tool can be used, for example, to automate the scraping and download of large number of URLs from VK."
      ]
    }
  ],
  "metadata": {
    "kernelspec": {
      "display_name": "open-source-research-notebooks-4sg58OrJ",
      "language": "python",
      "name": "python3"
    },
    "language_info": {
      "codemirror_mode": {
        "name": "ipython",
        "version": 3
      },
      "file_extension": ".py",
      "mimetype": "text/x-python",
      "name": "python",
      "nbconvert_exporter": "python",
      "pygments_lexer": "ipython3",
      "version": "3.10.12"
    },
    "colab": {
      "provenance": []
    }
  },
  "nbformat": 4,
  "nbformat_minor": 0
}